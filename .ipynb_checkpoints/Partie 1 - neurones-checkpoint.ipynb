{
 "cells": [
  {
   "cell_type": "markdown",
   "metadata": {},
   "source": [
    "# Introduction à Brian partie 1: Neurones"
   ]
  },
  {
   "cell_type": "markdown",
   "metadata": {},
   "source": [
    "## Dérivé du tutoriel fournit par Brian"
   ]
  },
  {
   "cell_type": "markdown",
   "metadata": {},
   "source": [
    "### Objectifs du tutoriel :\n",
    "**1) Prendre en main le système d'unité de Brian**\n",
    "\n",
    "**2) Implémenter un modèle de neurone impulsionnel de type Leaky-Integrate-And-Fire**\n",
    "\n",
    "**3) Trouver la solution analytique (i.e. exacte) d'une équation différentielle et la comparer avec sa résolution numérique**\n",
    "\n",
    "**4) Savoir utiliser les objets ``NeuronGroup``, ``StateMonitor``, ``SpikeMonitor`` et ``plot`` de Brian**\n",
    "\n",
    "**5) Savoir simuler des groupes de neurones**\n",
    "\n",
    "**6) Implémenter un modèle de neurone impulsionnel de type Izhikevich et reproduire ses différents types de dynamique en se basant sur un article scientifique.**\n",
    "\n",
    "**A noter que les neurones ne seront pas connectés via des synapses dans ce tutoriel, ce sera l'objet du prochain tutoriel.**"
   ]
  },
  {
   "cell_type": "markdown",
   "metadata": {},
   "source": [
    "On commence par importer la librairie brian2, ``*`` signifie qu'on importe toutes les fonctions et les classes fournies par brian2."
   ]
  },
  {
   "cell_type": "code",
   "execution_count": 1,
   "metadata": {},
   "outputs": [],
   "source": [
    "from brian2 import *"
   ]
  },
  {
   "cell_type": "markdown",
   "metadata": {},
   "source": [
    "Afin d'afficher des graphiques dans ce jupyter notebook, on utilise la \"commande magique\" ``%matplotlib inline`` de IPython."
   ]
  },
  {
   "cell_type": "code",
   "execution_count": 2,
   "metadata": {},
   "outputs": [],
   "source": [
    "%matplotlib inline"
   ]
  },
  {
   "cell_type": "markdown",
   "metadata": {},
   "source": [
    "## Système d'unités\n",
    "\n",
    "Brian intègre un système permettant de spécifier des **dimensions physiques** :"
   ]
  },
  {
   "cell_type": "code",
   "execution_count": 3,
   "metadata": {},
   "outputs": [
    {
     "data": {
      "text/latex": [
       "$20.0\\,\\mathrm{V}$"
      ],
      "text/plain": [
       "20. * volt"
      ]
     },
     "execution_count": 3,
     "metadata": {},
     "output_type": "execute_result"
    }
   ],
   "source": [
    "20*volt"
   ]
  },
  {
   "cell_type": "markdown",
   "metadata": {},
   "source": [
    "Toutes les unités du Système International d'unités (SI) peuvent être utilisées (volt, amp, etc.) \n",
    "avec tout les préfixes standards (m=milli, p=pico, etc.), et aussi quelques abréviations comme ``mV`` pour millivolt, ``pF`` pour picofarad, etc."
   ]
  },
  {
   "cell_type": "code",
   "execution_count": 4,
   "metadata": {},
   "outputs": [
    {
     "data": {
      "text/latex": [
       "$1.0\\,\\mathrm{k}\\,\\mathrm{A}$"
      ],
      "text/plain": [
       "1. * kamp"
      ]
     },
     "execution_count": 4,
     "metadata": {},
     "output_type": "execute_result"
    }
   ],
   "source": [
    "1000*amp"
   ]
  },
  {
   "cell_type": "code",
   "execution_count": 5,
   "metadata": {},
   "outputs": [
    {
     "data": {
      "text/latex": [
       "$1.0\\,\\mathrm{M}\\,\\mathrm{V}$"
      ],
      "text/plain": [
       "1. * Mvolt"
      ]
     },
     "execution_count": 5,
     "metadata": {},
     "output_type": "execute_result"
    }
   ],
   "source": [
    "1e6*volt"
   ]
  },
  {
   "cell_type": "code",
   "execution_count": 6,
   "metadata": {},
   "outputs": [
    {
     "data": {
      "text/latex": [
       "$1.0000000000000002\\,\\mathrm{\\mu}\\,\\mathrm{A}$"
      ],
      "text/plain": [
       "1. * uamp"
      ]
     },
     "execution_count": 6,
     "metadata": {},
     "output_type": "execute_result"
    }
   ],
   "source": [
    "1000*namp"
   ]
  },
  {
   "cell_type": "markdown",
   "metadata": {},
   "source": [
    "Maintenant combinons des unités :"
   ]
  },
  {
   "cell_type": "code",
   "execution_count": 7,
   "metadata": {},
   "outputs": [
    {
     "data": {
      "text/latex": [
       "$49.99999999999999\\,\\mathrm{m}\\,\\mathrm{V}$"
      ],
      "text/plain": [
       "50. * mvolt"
      ]
     },
     "execution_count": 7,
     "metadata": {},
     "output_type": "execute_result"
    }
   ],
   "source": [
    "10*nA*5*Mohm"
   ]
  },
  {
   "cell_type": "markdown",
   "metadata": {},
   "source": [
    "Brian trouve correctement l'unité correspondante"
   ]
  },
  {
   "cell_type": "markdown",
   "metadata": {},
   "source": [
    "Si on essaye de faire quelque chose violant le système d'unité, comme additioner des ampères avec des volts, que se passe-t-il ?"
   ]
  },
  {
   "cell_type": "code",
   "execution_count": 8,
   "metadata": {},
   "outputs": [
    {
     "ename": "DimensionMismatchError",
     "evalue": "Cannot calculate 5. A + 10. V, units do not match (units are A and V).",
     "output_type": "error",
     "traceback": [
      "\u001b[0;31m---------------------------------------------------------------------------\u001b[0m",
      "\u001b[0;31mDimensionMismatchError\u001b[0m                    Traceback (most recent call last)",
      "\u001b[0;32m<ipython-input-8-245c0c0332d1>\u001b[0m in \u001b[0;36m<module>\u001b[0;34m\u001b[0m\n\u001b[0;32m----> 1\u001b[0;31m \u001b[0;36m5\u001b[0m\u001b[0;34m*\u001b[0m\u001b[0mamp\u001b[0m\u001b[0;34m+\u001b[0m\u001b[0;36m10\u001b[0m\u001b[0;34m*\u001b[0m\u001b[0mvolt\u001b[0m\u001b[0;34m\u001b[0m\u001b[0;34m\u001b[0m\u001b[0m\n\u001b[0m",
      "\u001b[0;32m~/.local/lib/python3.7/site-packages/brian2/units/fundamentalunits.py\u001b[0m in \u001b[0;36m__add__\u001b[0;34m(self, other)\u001b[0m\n\u001b[1;32m   1438\u001b[0m         return self._binary_operation(other, operator.add,\n\u001b[1;32m   1439\u001b[0m                                       \u001b[0mfail_for_mismatch\u001b[0m\u001b[0;34m=\u001b[0m\u001b[0;32mTrue\u001b[0m\u001b[0;34m,\u001b[0m\u001b[0;34m\u001b[0m\u001b[0;34m\u001b[0m\u001b[0m\n\u001b[0;32m-> 1440\u001b[0;31m                                       operator_str='+')\n\u001b[0m\u001b[1;32m   1441\u001b[0m \u001b[0;34m\u001b[0m\u001b[0m\n\u001b[1;32m   1442\u001b[0m     \u001b[0;32mdef\u001b[0m \u001b[0m__radd__\u001b[0m\u001b[0;34m(\u001b[0m\u001b[0mself\u001b[0m\u001b[0;34m,\u001b[0m \u001b[0mother\u001b[0m\u001b[0;34m)\u001b[0m\u001b[0;34m:\u001b[0m\u001b[0;34m\u001b[0m\u001b[0;34m\u001b[0m\u001b[0m\n",
      "\u001b[0;32m~/.local/lib/python3.7/site-packages/brian2/units/fundamentalunits.py\u001b[0m in \u001b[0;36m_binary_operation\u001b[0;34m(self, other, operation, dim_operation, fail_for_mismatch, operator_str, inplace)\u001b[0m\n\u001b[1;32m   1378\u001b[0m                 _, other_dim = fail_for_dimension_mismatch(self, other, message,\n\u001b[1;32m   1379\u001b[0m                                                            \u001b[0mvalue1\u001b[0m\u001b[0;34m=\u001b[0m\u001b[0mself\u001b[0m\u001b[0;34m,\u001b[0m\u001b[0;34m\u001b[0m\u001b[0;34m\u001b[0m\u001b[0m\n\u001b[0;32m-> 1380\u001b[0;31m                                                            value2=other)\n\u001b[0m\u001b[1;32m   1381\u001b[0m \u001b[0;34m\u001b[0m\u001b[0m\n\u001b[1;32m   1382\u001b[0m         \u001b[0;32mif\u001b[0m \u001b[0mother_dim\u001b[0m \u001b[0;32mis\u001b[0m \u001b[0;32mNone\u001b[0m\u001b[0;34m:\u001b[0m\u001b[0;34m\u001b[0m\u001b[0;34m\u001b[0m\u001b[0m\n",
      "\u001b[0;32m~/.local/lib/python3.7/site-packages/brian2/units/fundamentalunits.py\u001b[0m in \u001b[0;36mfail_for_dimension_mismatch\u001b[0;34m(obj1, obj2, error_message, **error_quantities)\u001b[0m\n\u001b[1;32m    186\u001b[0m             \u001b[0;32mraise\u001b[0m \u001b[0mDimensionMismatchError\u001b[0m\u001b[0;34m(\u001b[0m\u001b[0merror_message\u001b[0m\u001b[0;34m,\u001b[0m \u001b[0mdim1\u001b[0m\u001b[0;34m)\u001b[0m\u001b[0;34m\u001b[0m\u001b[0;34m\u001b[0m\u001b[0m\n\u001b[1;32m    187\u001b[0m         \u001b[0;32melse\u001b[0m\u001b[0;34m:\u001b[0m\u001b[0;34m\u001b[0m\u001b[0;34m\u001b[0m\u001b[0m\n\u001b[0;32m--> 188\u001b[0;31m             \u001b[0;32mraise\u001b[0m \u001b[0mDimensionMismatchError\u001b[0m\u001b[0;34m(\u001b[0m\u001b[0merror_message\u001b[0m\u001b[0;34m,\u001b[0m \u001b[0mdim1\u001b[0m\u001b[0;34m,\u001b[0m \u001b[0mdim2\u001b[0m\u001b[0;34m)\u001b[0m\u001b[0;34m\u001b[0m\u001b[0;34m\u001b[0m\u001b[0m\n\u001b[0m\u001b[1;32m    189\u001b[0m     \u001b[0;32melse\u001b[0m\u001b[0;34m:\u001b[0m\u001b[0;34m\u001b[0m\u001b[0;34m\u001b[0m\u001b[0m\n\u001b[1;32m    190\u001b[0m         \u001b[0;32mreturn\u001b[0m \u001b[0mdim1\u001b[0m\u001b[0;34m,\u001b[0m \u001b[0mdim2\u001b[0m\u001b[0;34m\u001b[0m\u001b[0;34m\u001b[0m\u001b[0m\n",
      "\u001b[0;31mDimensionMismatchError\u001b[0m: Cannot calculate 5. A + 10. V, units do not match (units are A and V)."
     ]
    }
   ],
   "source": [
    "5*amp+10*volt"
   ]
  },
  {
   "cell_type": "markdown",
   "metadata": {},
   "source": [
    "## Implémentation d'un modèle de neurone Leaky-Integrate-and-Fire (LIF)\n",
    "Pour implémenter un modèle LIF, nous aurons besoin de 2 ingrédients :\n",
    "\n",
    "- **une équation différentielle linéaire pour décrire l'évolution du potentiel membranaire du neurone**\n",
    "- **un seuil d’émission de potentiel d’action** \n",
    "\n",
    "Le modèle LIF est essentiellement un circuit RC auquel on a ajouté un seuil de décharge.\n",
    "\n",
    "Pour plus de détails sur le neurone LIF, lisez la partie 1.3.1 du livre Neuronal Dynamics ci-dessous :"
   ]
  },
  {
   "cell_type": "code",
   "execution_count": 10,
   "metadata": {},
   "outputs": [
    {
     "data": {
      "text/html": [
       "\n",
       "        <iframe\n",
       "            width=\"700\"\n",
       "            height=\"600\"\n",
       "            src=\"https://neuronaldynamics.epfl.ch/online/Ch1.S3.html\"\n",
       "            frameborder=\"0\"\n",
       "            allowfullscreen\n",
       "        ></iframe>\n",
       "        "
      ],
      "text/plain": [
       "<IPython.lib.display.IFrame at 0x7f798dfbd750>"
      ]
     },
     "execution_count": 10,
     "metadata": {},
     "output_type": "execute_result"
    }
   ],
   "source": [
    "from IPython.display import IFrame\n",
    "\n",
    "IFrame(src='https://neuronaldynamics.epfl.ch/online/Ch1.S3.html', width=700, height=600)"
   ]
  },
  {
   "cell_type": "markdown",
   "metadata": {},
   "source": [
    "### Premier ingrédient : une équation différentielle linéaire pour décrire l'évolution du potentiel membranaire \n",
    "<img src=https://www.ecranlarge.com/uploads/image/001/025/ratatouille-photo-1025167.jpg width=\"500\">"
   ]
  },
  {
   "cell_type": "markdown",
   "metadata": {},
   "source": [
    "Dans Brian, tout les modèles sont définis par des **systèmes d'équations différentielles**.\n",
    "\n",
    "Rappelons qu'une **équation différentielle** est une équation où **l’inconnue est une fonction**, et qui se présente sous la forme d’une **relation entre cette fonction et ses dérivées**.\n",
    "\n",
    "Exemple: $\n",
    "\\begin{align}\n",
    "v(t)' = \\frac{1-v}{\\tau}\n",
    "\\end{align}$ \n",
    "est une équation différentielle où l'inconnue est la fonction $v$. \n",
    "\n",
    "Peut-être avez vous remarqué que cette équation décrit l'évolution de la tension $v(t)$ aux bornes d'un condensateur lors de sa charge. Dans cet exemple on impose une tension constante de 1V aux bornes du condensateur. $\\tau$ est une constante de temps, où $\\tau = RC$. \n",
    "\n",
    "Cette équation différentielle est notre premier ingrédient. Elle va nous permettre de décrire l'évolution du potentiel membranaire (sous une tension constante en entrée)."
   ]
  },
  {
   "cell_type": "code",
   "execution_count": 11,
   "metadata": {},
   "outputs": [
    {
     "name": "stdout",
     "output_type": "stream",
     "text": [
      "Avant la simulation v = 0.0\n"
     ]
    },
    {
     "name": "stderr",
     "output_type": "stream",
     "text": [
      "/users/afois/.cython/brian_extensions/_cython_magic_cc8f58208c750d952fbeb2d823abdcab.cpp:27:20: fatal error: Python.h: Aucun fichier ou dossier de ce type\n",
      "compilation terminated.\n",
      "WARNING    Cannot use Cython, a test compilation failed: command 'x86_64-linux-gnu-gcc' failed with exit status 1 (CompileError) [brian2.codegen.runtime.cython_rt.cython_rt.failed_compile_test]\n",
      "INFO       Cannot use compiled code, falling back to the numpy code generation target. Note that this will likely be slower than using compiled code. Set the code generation to numpy manually to avoid this message:\n",
      "prefs.codegen.target = \"numpy\" [brian2.devices.device.codegen_fallback]\n"
     ]
    },
    {
     "name": "stdout",
     "output_type": "stream",
     "text": [
      "Après la simulation v = 0.9999546000702376\n"
     ]
    }
   ],
   "source": [
    "start_scope()\n",
    "\n",
    "tau = 10*ms\n",
    "\n",
    "eqs = '''\n",
    "dv/dt = (1-v)/tau : 1\n",
    "'''\n",
    "\n",
    "G = NeuronGroup(1, eqs, method='exact')\n",
    "print('Avant la simulation v = %s' % G.v[0])\n",
    "run(100*ms)\n",
    "print('Après la simulation v = %s' % G.v[0])"
   ]
  },
  {
   "cell_type": "markdown",
   "metadata": {},
   "source": [
    "**``start_scope()``** permet de s'assurer que des objets Brian créés précédement ne soient pas inclus dans la simulation actuelle. Autrement dit, cela permet de lancer plusieurs simulations indépendantes dans le même jupyter notebook.\n",
    "\n",
    "**``tau``** est une constante de temps \n",
    "\n",
    "**l'équation différentielle** est stockée dans un objet *multi-line string* via la notation ``'''``. Il suffit d'écrire son système d'équation différentielle en écrivant une équation par ligne. A la fin de la ligne on introduit l'unité de la variable avec ``: unité`` où ``unité`` est l'unité SI de la variable (dans cet exemple ``v`` est sans dimension en mettant ``: 1``). A noter que ``dt`` est le pas de temps (unité en seconde) de la simulation dont la valeur est initialisée par Brian. \n",
    "\n",
    "On créé un **groupe de neurones** en instanciant la classe **``NeuronGroup()``** et en lui passant en argument le nombre de neurones à créer (1), l'objet contenant la description de la dynamique du neurone (eqs), ainsi que la méthode de résolution / d'intégration numérique de l'équation différentielle (exact).\n",
    "\n",
    "**Lors de la création d'un objet ``NeuronGroup``, toutes les variables sont initialisées à 0 par défaut**, e.g. ``v = 0``.\n",
    "\n",
    "Pour **accéder à la valeur de la variable**  ``v``du neurone créé, il suffit d'accéder à l'attribut ``v`` de l'objet ``G`` de type *``NeuronGroup``*. Notez que ``v`` est un **tableau** dans lequel chaque case stocke la valeur de ``v`` d'un neurone. Dans cet exemple on a créé un seul neurone, donc on y accède via la première case du tableau, i.e. ``G.v[0]``.\n",
    "\n",
    "On lance la simulation en appelant la fonction **``run``** avec en argument la durée de la simulation."
   ]
  },
  {
   "cell_type": "markdown",
   "metadata": {},
   "source": [
    "### Les résultats de la simulation donnés par Brian sont-ils fiables ? \n",
    "\n",
    "On peut comparer le résultat de la simulation avec ce que la théorie prédit : \n",
    "\n",
    "$\\begin{align}\n",
    "v(t)' = \\frac{1-v(t)}{\\tau}\n",
    "\\end{align}$ \n",
    "est l'équation différentielle qu'on doit résoudre.\n",
    "\n",
    "Comment la résoudre analytiquement ? i.e. comment trouver la fonction inconnue $v(t)$ ?\n",
    "\n",
    "**1) La solution générale de l'équation différentielle linéaire du 1er ordre**\n",
    "$\\begin{align}\n",
    "y(t)' = ay(t) + b\n",
    "\\end{align}$ \n",
    "avec $a$ et $b$ $\\in \\mathbb{R}$ et $a \\neq 0$ est :\n",
    "\n",
    "$\\begin{align}\n",
    "\\mathbf{y_c(t) = Ce^{at} - \\frac{b}{a}}\n",
    "\\end{align}$ \n",
    "avec $C \\in \\mathbb{R}$\n",
    "\n",
    "Pour trouver la solution générale, on réécrit l'équation différentielle sous la forme $y(t)' = ay(t) + b$ :\n",
    "\n",
    "$\n",
    "\\begin{align}\n",
    "v_c(t)' = -\\frac{v}{\\tau} + \\frac{1}{\\tau}\n",
    "\\end{align}$\n",
    "\n",
    "On voit ainsi que \n",
    "$\\begin{align}\n",
    "a = \\frac{-1}{\\tau}\n",
    "\\end{align}$ \n",
    "et \n",
    "$\\begin{align}\n",
    "b = \\frac{1}{\\tau}\n",
    "\\end{align}$.\n",
    "\n",
    "Ce qui donne la solution générale :\n",
    "\n",
    "$\\begin{align}\n",
    "v_c(t) = Ce^{\\frac{-t}{\\tau}} + 1\n",
    "\\end{align}$ \n",
    "\n",
    "\n",
    "**2) On détermine l'unique solution de l'équation en connaissant les conditions initiales $v(t_0) = 0$ :**\n",
    "\n",
    "$\\begin{align}\n",
    "0 &= Ce^{0} + 1 \\\\\n",
    "C &= -1\n",
    "\\end{align}$ \n",
    "\n",
    "Il en découle l'unique solution : \n",
    "$\\begin{align}\n",
    "v(t) &= 1 -e^{\\frac{-t}{\\tau}}\n",
    "\\end{align}$ \n",
    "\n",
    "**Testons ça :**"
   ]
  },
  {
   "cell_type": "code",
   "execution_count": 12,
   "metadata": {},
   "outputs": [
    {
     "name": "stdout",
     "output_type": "stream",
     "text": [
      "Après la simulation v = 0.9999546000702376\n",
      "Prédiction théorique de v = 0.9999546000702375\n"
     ]
    }
   ],
   "source": [
    "print('Après la simulation v = %s' % G.v[0])\n",
    "print('Prédiction théorique de v = %s' % (1-exp(-100*ms/tau)))"
   ]
  },
  {
   "cell_type": "markdown",
   "metadata": {},
   "source": [
    "La théorie et la simulation concordent !\n",
    "\n",
    "On a comparé les valeurs finales de ``v``, voyons maintenant comment créer un graphique de l'évolution de ``v`` au cours du temps."
   ]
  },
  {
   "cell_type": "code",
   "execution_count": 13,
   "metadata": {},
   "outputs": [
    {
     "data": {
      "image/png": "[encoded data removed]",
      "text/plain": [
       "<Figure size 432x288 with 1 Axes>"
      ]
     },
     "metadata": {
      "needs_background": "light"
     },
     "output_type": "display_data"
    }
   ],
   "source": [
    "start_scope()\n",
    "\n",
    "G = NeuronGroup(1, eqs, method='exact')\n",
    "M = StateMonitor(G, 'v', record=0)\n",
    "\n",
    "run(30*ms)\n",
    "\n",
    "plot(M.t/ms, M.v[0], 'C0', label='Brian')\n",
    "plot(M.t/ms, 1-exp(-M.t/tau), 'C1--',label='Théorie')\n",
    "xlabel('Time (ms)')\n",
    "ylabel('v')\n",
    "legend();"
   ]
  },
  {
   "cell_type": "markdown",
   "metadata": {},
   "source": [
    "On peut constater que l'évolution temporelle de ``v`` calculée par Brian et calculée analytiquement coincident.\n",
    "\n",
    "Notez qu'on a instancié un nouvel objet : un ``StateMonitor`` qui permet de garder en mémoire l'évolution de toutes les variables neuronales durant la simulation. \n",
    "Les deux premiers arguments sont respectivement le groupe de neurones qu'on veut tracker et la variable qu'on veut enregistrer. On a aussi spécifié ``record=0``. Cela signifie qu'on enregistre uniquement les variables du neurone 0. Si on simule beaucoup de neurones, enregistrer les variables de tout ces neurones peut saturer la RAM."
   ]
  },
  {
   "cell_type": "markdown",
   "metadata": {},
   "source": [
    "### Deuxième ingrédient : un seuil d’émission de potentiel d’action \n",
    "<img src=https://www.telez.fr/content/uploads/2018/04/ratatouille-1280x720.jpg width=\"500\">"
   ]
  },
  {
   "cell_type": "markdown",
   "metadata": {},
   "source": [
    "Pour ajouter un seuil d'émission de potentiel d'action au neurone, on passe deux nouveaux arguments à ``NeuronGroup`` : un ``threshold`` et un ``reset``."
   ]
  },
  {
   "cell_type": "code",
   "execution_count": 14,
   "metadata": {},
   "outputs": [
    {
     "data": {
      "image/png": "[encoded data removed]",
      "text/plain": [
       "<Figure size 432x288 with 1 Axes>"
      ]
     },
     "metadata": {
      "needs_background": "light"
     },
     "output_type": "display_data"
    }
   ],
   "source": [
    "start_scope()\n",
    "\n",
    "tau = 10*ms\n",
    "eqs = '''\n",
    "dv/dt = (1-v)/tau : 1\n",
    "'''\n",
    "\n",
    "G = NeuronGroup(1, eqs, threshold='v>0.8', reset='v = 0', method='exact')\n",
    "\n",
    "M = StateMonitor(G, 'v', record=0)\n",
    "run(50*ms)\n",
    "plot(M.t/ms, M.v[0])\n",
    "xlabel('Time (ms)')\n",
    "ylabel('v');"
   ]
  },
  {
   "cell_type": "markdown",
   "metadata": {},
   "source": [
    "On observe que le potentiel membranaire augmente jusqu'au moment où il atteint son potentiel de seuil (ici 0.8V), le neurone émet alors un potentiel d'action et son potentiel membranaire est réinitialisé (ici 0V).\n",
    "\n",
    "Lorsque le seuil est dépassé, Brian enregistre cet évènement comme un spike. \n",
    "\n",
    "On va utiliser un **``SpikeMonitor``** pour tracker les spikes émis par le neurone. "
   ]
  },
  {
   "cell_type": "code",
   "execution_count": 48,
   "metadata": {},
   "outputs": [
    {
     "name": "stdout",
     "output_type": "stream",
     "text": [
      "Moments d'émission d'un spike: [16.  32.1 48.2] ms\n"
     ]
    }
   ],
   "source": [
    "start_scope()\n",
    "\n",
    "G = NeuronGroup(1, eqs, threshold='v>0.8', reset='v = 0', method='exact')\n",
    "\n",
    "spikemon = SpikeMonitor(G)\n",
    "\n",
    "run(50*ms)\n",
    "\n",
    "print(\"Moments d'émission d'un spike: %s\" % spikemon.t[:])"
   ]
  },
  {
   "cell_type": "markdown",
   "metadata": {},
   "source": [
    "Le ``SpikeMonitor`` prends en argument le groupe de neurone qu'on veut tracker et enregistre les moments d'émissions de spikes dans la variable ``t``. \n",
    "\n",
    "Vérifions graphiquement que les moments enregistrés coincident bien avec le dépassement du potentiel de seuil :"
   ]
  },
  {
   "cell_type": "code",
   "execution_count": 30,
   "metadata": {},
   "outputs": [
    {
     "data": {
      "image/png": "[encoded data removed]",
      "text/plain": [
       "<Figure size 432x288 with 1 Axes>"
      ]
     },
     "metadata": {
      "needs_background": "light"
     },
     "output_type": "display_data"
    }
   ],
   "source": [
    "start_scope()\n",
    "\n",
    "G = NeuronGroup(1, eqs, threshold='v>0.8', reset='v = 0', method='exact')\n",
    "\n",
    "statemon = StateMonitor(G, 'v', record=0)\n",
    "spikemon = SpikeMonitor(G)\n",
    "\n",
    "run(50*ms)\n",
    "\n",
    "plot(statemon.t/ms, statemon.v[0])\n",
    "for t in spikemon.t:\n",
    "    axvline(t/ms, ls='--', c='C1', lw=3)\n",
    "xlabel('Temps (ms)')\n",
    "ylabel('v');"
   ]
  },
  {
   "cell_type": "markdown",
   "metadata": {},
   "source": [
    "## Du neurone au groupe de neurones\n",
    "\n",
    "Jusqu'à présent on a simulé la dynamique d'un unique LIF. Maintenant voyons comment simuler un groupe de LIF."
   ]
  },
  {
   "cell_type": "code",
   "execution_count": 51,
   "metadata": {},
   "outputs": [
    {
     "data": {
      "image/png": "[encoded data removed]",
      "text/plain": [
       "<Figure size 432x288 with 1 Axes>"
      ]
     },
     "metadata": {
      "needs_background": "light"
     },
     "output_type": "display_data"
    }
   ],
   "source": [
    "start_scope()\n",
    "\n",
    "N = 100\n",
    "tau = 10*ms\n",
    "eqs = '''\n",
    "dv/dt = (2-v)/tau : 1\n",
    "'''\n",
    "\n",
    "G = NeuronGroup(N, eqs, threshold='v>1', reset='v=0', method='exact')\n",
    "G.v = 'rand()'\n",
    "\n",
    "spikemon = SpikeMonitor(G, variables='v')\n",
    "\n",
    "run(50*ms)\n",
    "\n",
    "plot(spikemon.t/ms, spikemon.i, '.k')\n",
    "xlabel('Time (ms)')\n",
    "ylabel('Neuron index');"
   ]
  },
  {
   "cell_type": "markdown",
   "metadata": {},
   "source": [
    "On peut observer quelques changements vis-à-vis du code utilisé pour un seul neurone :\n",
    "\n",
    "1) On a créé une nouvelle variable ``N``, déterminant le nombre de neurones à instancier, qu'on passe en argument à ``NeuronGroup``.\n",
    "\n",
    "2) On a initialisé les potentiels membranaires des neurones entre 0 et 1 de façon aléatoire et uniforme avec ``G.v = 'rand()'``. Cela implique que les neurones n'émettront pas de spikes de façon synchrone.\n",
    "\n",
    "3) Pour afficher graphiquement les moments où les neurones ont émis un spike, on utilise un ``SpikeMonitor`` comme précédement. Cependant, en plus d'utiliser la variable ``t`` du ``SpikeMonitor`` enregistrant les moments d'émission des spikes, on utilise aussi la variable ``i`` qui nous donne l'indice de chaque neurone au sein du groupe."
   ]
  },
  {
   "cell_type": "markdown",
   "metadata": {},
   "source": [
    "## Exercice\n",
    "<img src=http://clipart-library.com/images_k/cartoon-brain-transparent-background/cartoon-brain-transparent-background-19.png width=\"200\">"
   ]
  },
  {
   "cell_type": "markdown",
   "metadata": {},
   "source": [
    "### On se basera pour cet exercice sur l'article Simple model of spiking neurons de Izhikevich - 2003, lisez et familiarisez-vous avec cet article :"
   ]
  },
  {
   "cell_type": "code",
   "execution_count": 33,
   "metadata": {},
   "outputs": [
    {
     "data": {
      "text/html": [
       "\n",
       "        <iframe\n",
       "            width=\"800\"\n",
       "            height=\"600\"\n",
       "            src=\"./articles/Simple Model of Spiking Neurons.pdf\"\n",
       "            frameborder=\"0\"\n",
       "            allowfullscreen\n",
       "        ></iframe>\n",
       "        "
      ],
      "text/plain": [
       "<IPython.lib.display.IFrame at 0x7fe6c4aacad0>"
      ]
     },
     "execution_count": 33,
     "metadata": {},
     "output_type": "execute_result"
    }
   ],
   "source": [
    "from IPython.display import IFrame\n",
    "IFrame(\"./articles/Simple Model of Spiking Neurons.pdf\", width=800, height=600)"
   ]
  },
  {
   "cell_type": "markdown",
   "metadata": {},
   "source": [
    "### Répondez aux questions dans les cellules prévues à cet effet."
   ]
  },
  {
   "cell_type": "markdown",
   "metadata": {},
   "source": [
    "- Quel sont les principaux avantages du modèle d'Izhikevich ?"
   ]
  },
  {
   "cell_type": "markdown",
   "metadata": {},
   "source": []
  },
  {
   "cell_type": "markdown",
   "metadata": {},
   "source": [
    "- A quoi correspondent les variables d'états ``u``, ``v`` et ``I`` ? "
   ]
  },
  {
   "cell_type": "markdown",
   "metadata": {},
   "source": []
  },
  {
   "cell_type": "markdown",
   "metadata": {},
   "source": [
    "- A quoi correspondent les différents coefficients ?"
   ]
  },
  {
   "cell_type": "markdown",
   "metadata": {},
   "source": []
  },
  {
   "cell_type": "markdown",
   "metadata": {},
   "source": [
    "Voici un récapitulatif du modèle de neurone impulsionnel d’Izhikevich ci-dessous :\n",
    "\n",
    "$\\left\\{\n",
    "    \\begin{array}{ll}\n",
    "        \\dot{v}(t) & = c_2 \\, v(t)^2 + c_1 \\, v(t) + c_0 - u(t) + I(t)\\\\\n",
    "        \\dot{u}(t) & = a \\, ( b \\, v(t) - u(t) )\n",
    "    \\end{array}\n",
    "\\right.$\n",
    "\n",
    "$\\text{si}\\; v(t) = v_{spike} \\; \\; \\text{alors} \\;\\;\\; v(t) \\leftarrow c \\;\\;\\; \\text{et} \\; \\; u(t) \\leftarrow u(t) + d$\n",
    "\n",
    "On utilisera les coefficients suivants : \n",
    "$c_2 = 0.04/ms/mV, \\;\n",
    "c_1 = 5/ms, \\;\n",
    "c_0 = 140*mV/ms, \\;\n",
    "I = 10*volt/second,\\\\\n",
    "a = 0.02/ms, \\;\n",
    "b = 0.2/ms, \\\\\n",
    "v_{spike} = 30 mV, \\;\n",
    "c = -65 mV, \\;\n",
    "d = 2 mV/ms \\;$\n",
    "\n",
    "On initialisera les variables ``v`` et ``u`` avec :\n",
    "$v = c, \\\\\n",
    "u = b * v$"
   ]
  },
  {
   "cell_type": "markdown",
   "metadata": {},
   "source": [
    "- Initialisez le pas de temps de la simulation à 0.01 ms en utilisant ``defaultclock.dt``\n",
    "\n",
    "- Simulez pendant 200 ms la dynamique d'un neurone d'Izhikevich. Aide : vous pouvez fournir un objet *multi-line string*  à l'argument ``reset`` de ``NeuronGroup``."
   ]
  },
  {
   "cell_type": "code",
   "execution_count": null,
   "metadata": {},
   "outputs": [],
   "source": []
  },
  {
   "cell_type": "markdown",
   "metadata": {},
   "source": [
    "- Créez un graphique montrant l'évolution de ``v`` en fonction du temps. Ajoutez les moments d'émissions des spikes en les supperposant au graphique. Interprétez le graphique."
   ]
  },
  {
   "cell_type": "code",
   "execution_count": null,
   "metadata": {},
   "outputs": [],
   "source": []
  },
  {
   "cell_type": "markdown",
   "metadata": {},
   "source": [
    "- Créez un graphique montrant l'évolution de ``u`` en fonction du temps. Interprétez le graphique."
   ]
  },
  {
   "cell_type": "code",
   "execution_count": null,
   "metadata": {},
   "outputs": [],
   "source": []
  },
  {
   "cell_type": "markdown",
   "metadata": {},
   "source": [
    "### Etude des différents types de dynamique du modèle d'Izhikevich\n",
    "\n",
    "**Reproduisez les types de dynamique en vous basant sur l'article, comparez les résultats.**\n",
    "\n",
    "**Faites une simulation séparée pour chaque type de dynamique en faisant un graphique pour ``v(t)`` et un autre pour ``u(t)``. Aide : utilisez ``subplot()`` pour afficher plusieurs plots dans la même cellule.**"
   ]
  },
  {
   "cell_type": "markdown",
   "metadata": {},
   "source": [
    "**RS (regular spiking)**"
   ]
  },
  {
   "cell_type": "code",
   "execution_count": null,
   "metadata": {},
   "outputs": [],
   "source": []
  },
  {
   "cell_type": "markdown",
   "metadata": {},
   "source": [
    "**IB (intrinsically bursting)**"
   ]
  },
  {
   "cell_type": "code",
   "execution_count": null,
   "metadata": {},
   "outputs": [],
   "source": []
  },
  {
   "cell_type": "markdown",
   "metadata": {},
   "source": [
    "**CH (chattering)**"
   ]
  },
  {
   "cell_type": "code",
   "execution_count": null,
   "metadata": {},
   "outputs": [],
   "source": []
  },
  {
   "cell_type": "markdown",
   "metadata": {},
   "source": [
    "**FS (fast spiking)**"
   ]
  },
  {
   "cell_type": "code",
   "execution_count": null,
   "metadata": {},
   "outputs": [],
   "source": []
  },
  {
   "cell_type": "markdown",
   "metadata": {},
   "source": [
    "**LTS (low-threshold spiking)**"
   ]
  },
  {
   "cell_type": "code",
   "execution_count": null,
   "metadata": {},
   "outputs": [],
   "source": []
  },
  {
   "cell_type": "markdown",
   "metadata": {},
   "source": [
    "**TC (thalamo-cortical)**"
   ]
  },
  {
   "cell_type": "code",
   "execution_count": null,
   "metadata": {},
   "outputs": [],
   "source": []
  }
 ],
 "metadata": {
  "kernelspec": {
   "display_name": "Python 3",
   "language": "python",
   "name": "python3"
  },
  "language_info": {
   "codemirror_mode": {
    "name": "ipython",
    "version": 3
   },
   "file_extension": ".py",
   "mimetype": "text/x-python",
   "name": "python",
   "nbconvert_exporter": "python",
   "pygments_lexer": "ipython3",
   "version": "3.7.4"
  }
 },
 "nbformat": 4,
 "nbformat_minor": 2
}
