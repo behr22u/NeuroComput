{
 "cells": [
  {
   "cell_type": "code",
   "execution_count": 1,
   "metadata": {},
   "outputs": [],
   "source": [
    "from brian2 import *\n",
    "#from brian2tools import *\n",
    "import numpy as np\n",
    "%matplotlib inline\n"
   ]
  },
  {
   "cell_type": "code",
   "execution_count": 2,
   "metadata": {},
   "outputs": [],
   "source": [
    "# SIMULATION PARAMETERS\n",
    "\n",
    "prefs.codegen.target = 'numpy'\n",
    "# the numerical resolution method that shall be used by Brian\n",
    "diff_method = \"euler\"\n",
    "time_step = 0.01 * ms\n",
    "defaultclock.dt = time_step "
   ]
  },
  {
   "cell_type": "code",
   "execution_count": 3,
   "metadata": {},
   "outputs": [],
   "source": [
    "################################## NEURONS AND SYNAPSES PARAMETERS ################################## \n",
    "\n",
    "######### (A) Neuronal parameters, used in (1) and (4) ########\n",
    "\n",
    "# time constants\n",
    "tau_m = 1.0 * ms # ok\n",
    "tau_m_inh = 0.5 * ms # ok\n",
    "# membrane potential after reset\n",
    "v_rest = 0.0 # ok\n",
    "# spiking threshold\n",
    "theta_u = 0.5 # ok\n",
    "theta_inh = 0.01 # ok\n",
    "\n",
    "########## (B) Synaptic parameters, used in (2) and (3) for different synapse types ######### \n",
    "\n",
    "# temporal layer to som layer (u to v)\n",
    "tau_r_afferent = 0.2 * ms\n",
    "tau_f_afferent = 1.0 * ms\n",
    "\n",
    "# temporal layer (u to inh exc, u to inh inh, inh to u)\n",
    "tau_r_exc = 0.4 * ms\n",
    "tau_f_exc = 2.0 * ms\n",
    "tau_r_inh = 0.2 * ms\n",
    "tau_f_inh = 1.0 * ms\n",
    "tau_r_inh2u = 1.0 * ms\n",
    "tau_f_inh2u = 5.0 * ms\n",
    "\n",
    "########## (C) Maximum magnitudes of synaptic connection strength ########## poids synaptique\n",
    "w_syn_u2inh_exc_max = 1.0\n",
    "w_syn_u2inh_inh_max = 1.0\n",
    "w_syn_inh2u_max = 100.0"
   ]
  },
  {
   "cell_type": "code",
   "execution_count": 4,
   "metadata": {},
   "outputs": [],
   "source": [
    "class ReceptiveField:\n",
    "    # Parameter used in standard deviation definition\n",
    "    gamma = 1.5\n",
    "\n",
    "    def __init__(self, bank_size = 10, I_min =0.05 , I_max =0.95 ):\n",
    "        # number of units used to encode a real value  \n",
    "        self.bank_size = bank_size\n",
    "        # field_mu corresponds to the mean of the gaussian and shall be a numpy array \n",
    "        self.field_mu = np.zeros(bank_size)\n",
    "        for i in range (bank_size): \n",
    "            mui = I_min + (((2*(i+1)-2)/2)*(I_max - I_min)/(bank_size-1))\n",
    "            self.field_mu[i] = mui\n",
    "        # field_sigma corresponds to the standard deviation of the gaussian and shall be a float\n",
    "        self.field_sigma = 1/self.gamma * (I_max - I_min)\n",
    "        \n",
    "    def float_to_potential(self, input_vector):\n",
    "        try:\n",
    "            input_vector = input_vector.reshape((input_vector.shape[0], 1))\n",
    "            #self.field_mu = self.field_mu.reshape((self.field_mu.shape[0], 1))\n",
    "            \n",
    "        except Exception as exc:\n",
    "            print(\"Exception: {0}\\nObject shape: {1}\".format(repr(exc), input_vector.shape))\n",
    "            exit(1)\n",
    "            \n",
    "        #résultat de f(x)\n",
    "        result = e**(-((input_vector - self.field_mu)**2) /2*self.field_sigma)\n",
    "        return result"
   ]
  },
  {
   "cell_type": "code",
<<<<<<< Updated upstream
   "execution_count": 19,
=======
   "execution_count": 5,
>>>>>>> Stashed changes
   "metadata": {},
   "outputs": [
    {
     "data": {
      "text/plain": [
       "array([0.38460754, 0.9206988 ])"
      ]
     },
     "execution_count": 19,
     "metadata": {},
     "output_type": "execute_result"
    }
   ],
   "source": [
    "rf = ReceptiveField()\n",
    "inp_vector = np.random.uniform(0,1,2)\n",
    "inp_vector"
   ]
  },
  {
   "cell_type": "code",
<<<<<<< Updated upstream
   "execution_count": 20,
=======
   "execution_count": 6,
>>>>>>> Stashed changes
   "metadata": {},
   "outputs": [
    {
     "data": {
      "text/plain": [
       "0.5999999999999999"
      ]
     },
<<<<<<< Updated upstream
     "execution_count": 20,
=======
     "execution_count": 6,
>>>>>>> Stashed changes
     "metadata": {},
     "output_type": "execute_result"
    }
   ],
   "source": [
    "rf.field_sigma  # 0.59999999"
   ]
  },
  {
   "cell_type": "code",
<<<<<<< Updated upstream
   "execution_count": 21,
=======
   "execution_count": 7,
>>>>>>> Stashed changes
   "metadata": {},
   "outputs": [
    {
     "data": {
      "text/plain": [
       "array([[0.96696917, 0.98362337, 0.99457899, 0.99964076, 0.99871797,\n",
       "        0.99182718, 0.97909173, 0.96073804, 0.93708898, 0.90855433],\n",
       "       [0.79657426, 0.83678092, 0.87375867, 0.90691266, 0.9356936 ,\n",
       "        0.95961292, 0.97825652, 0.99129667, 0.99850163, 0.99974246]])"
      ]
     },
<<<<<<< Updated upstream
     "execution_count": 21,
=======
     "execution_count": 7,
>>>>>>> Stashed changes
     "metadata": {},
     "output_type": "execute_result"
    }
   ],
   "source": [
    "inp_potentials = rf.float_to_potential(inp_vector) # il me semble que ça devait un tableau genre gaussienne avec 1 au milieu \n",
    "inp_potentials"
   ]
  },
  {
   "cell_type": "markdown",
   "metadata": {},
   "source": [
    "## notes séance 06/02\n",
    "c'est le temps d'émission qui encode l'information \n",
    "c'est une propagation \n",
    "\n",
    "Tous les neurones sont les mêmes dans u et v c'est les mêmes modèles mais avec des paramètre différents \n",
    "fèche exitateur\n",
    "flèche plate inhibiteur \n",
    "\n",
    "c'est dans le modèle des synapse qu'on mettra les fonctions alpha \n",
    "u = à la somme des poids des synapses \n",
    "w le poids synaptique\n",
    "\n",
    "fonctions alpha les règles des synapses \n",
    "\n",
    "pas obligé de faire l'apprentissage dans un premier temps \n",
    "\n",
    "eq 5 : adapter les poids synaptiques\n",
    "    --> en fonction de ce qui est reçu on applique une règle ou l'autre \n",
    "    \n",
    "    \n",
    "summed variable sert pour l'eq 4 \n",
    "\n",
    "eq 6 : implémenter la différence de gaussienne --> partie 5 de l'aide\n",
    "\n",
    "eq 7 réduire le rayon au cours du temps\n",
    "    T n'est pas donné (essayer 10 on peut jouer avec)\n",
    "    n non plus n=1 on peut essayer de le faire varier "
   ]
  },
  {
   "cell_type": "code",
<<<<<<< Updated upstream
   "execution_count": 26,
=======
   "execution_count": 8,
>>>>>>> Stashed changes
   "metadata": {},
   "outputs": [],
   "source": [
    "# à adapter, peret de calculer la distance toroidale\n",
    "# permet de calculer le vecteur d'entrée de u\n",
    "# implémenter le noyer d'interraction pour la pop v\n",
    "def toroidalDistance(x1,x2):\n",
    "    dx = np.abs(x1 - x2)\n",
    "    tor_dist = np.where(dx < 0, dx, 1.0 - dx)\n",
    "    return tor_dist"
   ]
  },
  {
   "cell_type": "code",
<<<<<<< Updated upstream
   "execution_count": 32,
=======
   "execution_count": 9,
>>>>>>> Stashed changes
   "metadata": {},
   "outputs": [],
   "source": [
    "##### sans inh #####\n",
    "u_layer_neuron_equ_sans = '''\n",
    "I_ext : 1\n",
    "\n",
<<<<<<< Updated upstream
=======
    "# membrane potential of u layer \n",
    "dv/dt = (-v +I_ext) / tau_m:1\n",
    "'''\n",
    "\n",
    "#### avec inh ####\n",
>>>>>>> Stashed changes
    "u_layer_neuron_equ = '''\n",
    "I_ext : 1\n",
    "\n",
    "# inhibitory synapses to u layer : alpha functions\n",
    "ds_inh2u/dt = (-s_inh2u)/tau_r_inh2u:1\n",
    "dI_inh2u/dt = (s_inh2u-I_inh2u)/tau_f_inh2u :1\n",
    "\n",
    "# membrane potential of u layer \n",
    "dv/dt = (-v +I_ext - I_inh2u) / tau_m:1\n",
    "'''\n",
<<<<<<< Updated upstream
=======
    "\n",
    "inhibition_neuron_equ = '''\n",
    "# inhibitory synapses to inh neuron : alpha functions\n",
    "ds_u2inh_inh/dt = (-s_u2inh_inh)/tau_r_inh:1\n",
    "dI_u2ihn_inh/dt = (s_u2inh_inh-I_u2inh_inh)/tau_f_inh :1\n",
>>>>>>> Stashed changes
    "\n",
    "# exitatory synapses to inh neuron : alpha functions\n",
    "ds_u2inh_ext/dt = (-s_u2inh_ext)/tau_r_exc:1\n",
    "dI_u2inh_ext/dt = (s_u2inh_ext-I_u2inh_ext)/tau_f_exc :1\n",
    "\n",
    "# membrane potential of inh neuron\n",
    "dv/dt = (-v + I_u2inh_ext - I_u2inh_inh) / tau_m_inh:1\n",
    "'''\n",
    "\n",
    "\n",
    "#trucs pas définis : ds_inh2u, dI_inh2u\n",
    "# variables : s_inh2u, I_inh2u\n",
    "# s = 0 la présence d'un spike présynaptique\n",
    "# s1 = s_inh2u internal state variable\n",
    "# s2 = I_inh2u alpha function output\n",
    "\n"
   ]
  },
  {
   "cell_type": "code",
<<<<<<< Updated upstream
   "execution_count": 33,
=======
   "execution_count": 10,
>>>>>>> Stashed changes
   "metadata": {},
   "outputs": [],
   "source": [
    "start_scope()\n",
    "\n",
<<<<<<< Updated upstream
    "N = 10\n",
    "U = NeuronGroup(N,u_layer_neuron_equ, threshold='v>0.5', reset='v=0', method='exact')\n"
=======
    "N = 10 * inp_size\n",
    "u_layer = NeuronGroup(N,u_layer_neuron_equ, threshold='v>0.5', reset='v=0', method='exact')\n",
    "\n",
    "inhibition_neuron = NeuronGroup(1,inhibition_neuron_equ, threshold='v>0.5', reset='v=0', method='exact')"
>>>>>>> Stashed changes
   ]
  },
  {
   "cell_type": "code",
<<<<<<< Updated upstream
   "execution_count": 34,
=======
   "execution_count": 11,
>>>>>>> Stashed changes
   "metadata": {},
   "outputs": [
    {
     "name": "stdout",
     "output_type": "stream",
     "text": [
      "[[0.96696917 0.98362337 0.99457899 0.99964076 0.99871797 0.99182718\n",
      "  0.97909173 0.96073804 0.93708898 0.90855433]\n",
      " [0.79657426 0.83678092 0.87375867 0.90691266 0.9356936  0.95961292\n",
      "  0.97825652 0.99129667 0.99850163 0.99974246]]\n"
     ]
    }
   ],
   "source": [
    "print(inp_potentials)\n",
    "distance = toroidalDistance(inp_potentials[0],[1])\n",
    "\n",
<<<<<<< Updated upstream
    "U.I_ext = distance"
=======
    "\n",
    "# N de U = 10* input size\n",
    "# la sortie de de U doit être 1dim de taille 20 \n",
    "# I_ext  doit être 1 dim --> funct flatten()\n",
    "u_layer.I_ext = inp_potentials.flatten()\n"
>>>>>>> Stashed changes
   ]
  },
  {
   "cell_type": "code",
<<<<<<< Updated upstream
   "execution_count": 35,
   "metadata": {},
   "outputs": [
    {
     "name": "stderr",
     "output_type": "stream",
     "text": [
      "WARNING    \"I_inh2u\" is an internal variable of group \"neurongroup\", but also exists in the run namespace with the value 0. The internal variable will be used. [brian2.groups.group.Group.resolve.resolution_conflict]\n",
      "WARNING    <string>:15: RuntimeWarning: invalid value encountered in double_scalars\n",
      " [py.warnings]\n",
      "WARNING    <string>:19: RuntimeWarning: invalid value encountered in greater\n",
      " [py.warnings]\n",
      "WARNING    neurongroup's variable 'v' has NaN, very large values, or encountered an error in numerical integration. This is usually a sign that an unstable or invalid integration method was chosen. [brian2.groups.group.invalid_values]\n"
     ]
    },
    {
     "data": {
      "image/png": "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\n",
      "text/plain": [
       "<Figure size 432x288 with 1 Axes>"
      ]
     },
     "metadata": {
      "needs_background": "light"
     },
     "output_type": "display_data"
    }
   ],
=======
   "execution_count": null,
   "metadata": {},
   "outputs": [],
   "source": []
  },
  {
   "cell_type": "code",
   "execution_count": 12,
   "metadata": {},
   "outputs": [],
>>>>>>> Stashed changes
   "source": [
    "model_synapse_inh2u_inhibition = '''\n",
    "w_syn : 1\n",
    "'''\n",
    "\n",
<<<<<<< Updated upstream
    "run(100*ms)\n",
    "plot(spikemon.t/ms, spikemon.i, '.k')\n",
    "xlabel('Time (ms)')\n",
    "ylabel('Neuron index');"
=======
    "on_pre_synapse_inh2u_inhibition = '''\n",
    "s_inh2u += w_syn\n",
    "'''\n",
    "\n",
    "model_synapse_synapse_u2inh_exitation = '''\n",
    "w_syn : 1\n",
    "'''\n",
    "on_pre_synapse_u2inh_exitation = '''\n",
    "s_u2inh_ext += w_syn\n",
    "'''\n",
    "\n",
    "model_synapse_synapse_u2inh_inhibition = '''\n",
    "w_syn : 1\n",
    "'''\n",
    "on_pre_synapse_u2inh_inhibition = '''\n",
    "s_u2inh_inh += w_syn\n",
    "'''\n",
    "\n",
    "\n",
    "#définir le modèle de synapse\n",
    "u2inh_exitation = Synapses(u_layer, \n",
    "                            inhibition_neuron,\n",
    "                            model_synapse_synapse_u2inh_exitation,\n",
    "                            on_pre=on_pre_synapse_u2inh_exitation)\n",
    "u2inh_inhibition = Synapses(u_layer, \n",
    "                            inhibition_neuron,\n",
    "                            model_synapse_synapse_u2inh_inhibition,\n",
    "                            on_pre=on_pre_synapse_u2inh_inhibition)\n",
    "inh2u_inhibition = Synapses(inhibition_neuron, \n",
    "                            u_layer, \n",
    "                            model_synapse_inh2u_inhibition, \n",
    "                            on_pre=on_pre_synapse_inh2u_inhibition )\n",
    "\n",
    "\n",
    "\n",
    "## faire les connextions \n",
    "u2inh_exitation.connect()\n",
    "u2inh_inhibition.connect()\n",
    "inh2u_inhibition.connect()\n",
    "\n",
    "## pour l'instant poids synaptiques constants (je sais pas si ça changera ni comment)\n",
    "u2inh_exitation.w_syn = w_syn_u2inh_exc_max\n",
    "u2inh_inhibition.w_syn = w_syn_u2inh_inh_max\n",
    "inh2u_inhibition.w_syn = w_syn_inh2u_max"
>>>>>>> Stashed changes
   ]
  },
  {
   "cell_type": "code",
<<<<<<< Updated upstream
   "execution_count": 10,
   "metadata": {},
   "outputs": [
    {
     "ename": "NameError",
     "evalue": "name 'nb_epoch' is not defined",
     "output_type": "error",
     "traceback": [
      "\u001b[1;31m---------------------------------------------------------------------------\u001b[0m",
      "\u001b[1;31mNameError\u001b[0m                                 Traceback (most recent call last)",
      "\u001b[1;32m<ipython-input-10-5b136839f091>\u001b[0m in \u001b[0;36m<module>\u001b[1;34m\u001b[0m\n\u001b[0;32m      3\u001b[0m \u001b[0mnet_model\u001b[0m\u001b[1;33m.\u001b[0m\u001b[0mstore\u001b[0m\u001b[1;33m(\u001b[0m\u001b[1;33m)\u001b[0m\u001b[1;33m\u001b[0m\u001b[1;33m\u001b[0m\u001b[0m\n\u001b[0;32m      4\u001b[0m \u001b[1;33m\u001b[0m\u001b[0m\n\u001b[1;32m----> 5\u001b[1;33m \u001b[1;32mfor\u001b[0m \u001b[0mepoch\u001b[0m \u001b[1;32min\u001b[0m \u001b[0mrange\u001b[0m \u001b[1;33m(\u001b[0m\u001b[0mnb_epoch\u001b[0m\u001b[1;33m)\u001b[0m\u001b[1;33m:\u001b[0m\u001b[1;33m\u001b[0m\u001b[1;33m\u001b[0m\u001b[0m\n\u001b[0m\u001b[0;32m      6\u001b[0m     \u001b[0mnp\u001b[0m\u001b[1;33m.\u001b[0m\u001b[0mrandom\u001b[0m\u001b[1;33m.\u001b[0m\u001b[0mshuffle\u001b[0m\u001b[1;33m(\u001b[0m\u001b[0mdataset\u001b[0m\u001b[1;33m)\u001b[0m\u001b[1;33m\u001b[0m\u001b[1;33m\u001b[0m\u001b[0m\n\u001b[0;32m      7\u001b[0m     \u001b[1;32mfor\u001b[0m \u001b[0mvector\u001b[0m \u001b[1;32min\u001b[0m \u001b[0menumerate\u001b[0m\u001b[1;33m(\u001b[0m\u001b[0mdataset\u001b[0m\u001b[1;33m)\u001b[0m\u001b[1;33m:\u001b[0m\u001b[1;33m\u001b[0m\u001b[1;33m\u001b[0m\u001b[0m\n",
      "\u001b[1;31mNameError\u001b[0m: name 'nb_epoch' is not defined"
=======
   "execution_count": 13,
   "metadata": {},
   "outputs": [
    {
     "ename": "BrianObjectException",
     "evalue": "Original error and traceback:\nTraceback (most recent call last):\n  File \"C:\\Users\\Lenovo\\Anaconda3\\lib\\site-packages\\brian2\\core\\network.py\", line 901, in before_run\n    obj.before_run(run_namespace)\n  File \"C:\\Users\\Lenovo\\Anaconda3\\lib\\site-packages\\brian2\\groups\\neurongroup.py\", line 888, in before_run\n    self.equations.check_units(self, run_namespace=run_namespace)\n  File \"C:\\Users\\Lenovo\\Anaconda3\\lib\\site-packages\\brian2\\equations\\equations.py\", line 950, in check_units\n    user_identifiers=external)  # all variables are user defined\n  File \"C:\\Users\\Lenovo\\Anaconda3\\lib\\site-packages\\brian2\\groups\\group.py\", line 744, in resolve_all\n    run_namespace=run_namespace)\n  File \"C:\\Users\\Lenovo\\Anaconda3\\lib\\site-packages\\brian2\\groups\\group.py\", line 701, in _resolve\n    return self._resolve_external(identifier, run_namespace=run_namespace)\n  File \"C:\\Users\\Lenovo\\Anaconda3\\lib\\site-packages\\brian2\\groups\\group.py\", line 825, in _resolve_external\n    raise KeyError(error_msg)\nKeyError: 'The identifier \"I_u2inh_inh\" could not be resolved.'\n\nError encountered with object named \"neurongroup_1\".\nObject was created here (most recent call only, full details in debug log):\n  File \"<ipython-input-10-4bc82af3f71e>\", line 6, in <module>\n    inhibition_neuron = NeuronGroup(1,inhibition_neuron_equ, threshold='v>0.5', reset='v=0', method='exact')\n\nAn error occurred when preparing an object. KeyError: 'The identifier \"I_u2inh_inh\" could not be resolved.'\n(See above for original error message and traceback.)",
     "output_type": "error",
     "traceback": [
      "\u001b[1;31m---------------------------------------------------------------------------\u001b[0m",
      "\u001b[1;31mKeyError\u001b[0m                                  Traceback (most recent call last)",
      "\u001b[1;32m~\\Anaconda3\\lib\\site-packages\\brian2\\core\\network.py\u001b[0m in \u001b[0;36mbefore_run\u001b[1;34m(self, run_namespace)\u001b[0m\n\u001b[0;32m    900\u001b[0m                 \u001b[1;32mtry\u001b[0m\u001b[1;33m:\u001b[0m\u001b[1;33m\u001b[0m\u001b[1;33m\u001b[0m\u001b[0m\n\u001b[1;32m--> 901\u001b[1;33m                     \u001b[0mobj\u001b[0m\u001b[1;33m.\u001b[0m\u001b[0mbefore_run\u001b[0m\u001b[1;33m(\u001b[0m\u001b[0mrun_namespace\u001b[0m\u001b[1;33m)\u001b[0m\u001b[1;33m\u001b[0m\u001b[1;33m\u001b[0m\u001b[0m\n\u001b[0m\u001b[0;32m    902\u001b[0m                 \u001b[1;32mexcept\u001b[0m \u001b[0mException\u001b[0m \u001b[1;32mas\u001b[0m \u001b[0mex\u001b[0m\u001b[1;33m:\u001b[0m\u001b[1;33m\u001b[0m\u001b[1;33m\u001b[0m\u001b[0m\n",
      "\u001b[1;32m~\\Anaconda3\\lib\\site-packages\\brian2\\groups\\neurongroup.py\u001b[0m in \u001b[0;36mbefore_run\u001b[1;34m(self, run_namespace)\u001b[0m\n\u001b[0;32m    887\u001b[0m         \u001b[1;31m# Check units\u001b[0m\u001b[1;33m\u001b[0m\u001b[1;33m\u001b[0m\u001b[1;33m\u001b[0m\u001b[0m\n\u001b[1;32m--> 888\u001b[1;33m         \u001b[0mself\u001b[0m\u001b[1;33m.\u001b[0m\u001b[0mequations\u001b[0m\u001b[1;33m.\u001b[0m\u001b[0mcheck_units\u001b[0m\u001b[1;33m(\u001b[0m\u001b[0mself\u001b[0m\u001b[1;33m,\u001b[0m \u001b[0mrun_namespace\u001b[0m\u001b[1;33m=\u001b[0m\u001b[0mrun_namespace\u001b[0m\u001b[1;33m)\u001b[0m\u001b[1;33m\u001b[0m\u001b[1;33m\u001b[0m\u001b[0m\n\u001b[0m\u001b[0;32m    889\u001b[0m         \u001b[1;31m# Check that subexpressions that refer to stateful functions are labeled\u001b[0m\u001b[1;33m\u001b[0m\u001b[1;33m\u001b[0m\u001b[1;33m\u001b[0m\u001b[0m\n",
      "\u001b[1;32m~\\Anaconda3\\lib\\site-packages\\brian2\\equations\\equations.py\u001b[0m in \u001b[0;36mcheck_units\u001b[1;34m(self, group, run_namespace)\u001b[0m\n\u001b[0;32m    949\u001b[0m         resolved_namespace = group.resolve_all(external, run_namespace,\n\u001b[1;32m--> 950\u001b[1;33m                                                user_identifiers=external)  # all variables are user defined\n\u001b[0m\u001b[0;32m    951\u001b[0m \u001b[1;33m\u001b[0m\u001b[0m\n",
      "\u001b[1;32m~\\Anaconda3\\lib\\site-packages\\brian2\\groups\\group.py\u001b[0m in \u001b[0;36mresolve_all\u001b[1;34m(self, identifiers, run_namespace, user_identifiers, additional_variables)\u001b[0m\n\u001b[0;32m    743\u001b[0m                                                  \u001b[0madditional_variables\u001b[0m\u001b[1;33m=\u001b[0m\u001b[0madditional_variables\u001b[0m\u001b[1;33m,\u001b[0m\u001b[1;33m\u001b[0m\u001b[1;33m\u001b[0m\u001b[0m\n\u001b[1;32m--> 744\u001b[1;33m                                                  run_namespace=run_namespace)\n\u001b[0m\u001b[0;32m    745\u001b[0m         \u001b[1;32mreturn\u001b[0m \u001b[0mresolved\u001b[0m\u001b[1;33m\u001b[0m\u001b[1;33m\u001b[0m\u001b[0m\n",
      "\u001b[1;32m~\\Anaconda3\\lib\\site-packages\\brian2\\groups\\group.py\u001b[0m in \u001b[0;36m_resolve\u001b[1;34m(self, identifier, run_namespace, user_identifier, additional_variables)\u001b[0m\n\u001b[0;32m    700\u001b[0m         \u001b[1;31m# namespace\u001b[0m\u001b[1;33m\u001b[0m\u001b[1;33m\u001b[0m\u001b[1;33m\u001b[0m\u001b[0m\n\u001b[1;32m--> 701\u001b[1;33m         \u001b[1;32mreturn\u001b[0m \u001b[0mself\u001b[0m\u001b[1;33m.\u001b[0m\u001b[0m_resolve_external\u001b[0m\u001b[1;33m(\u001b[0m\u001b[0midentifier\u001b[0m\u001b[1;33m,\u001b[0m \u001b[0mrun_namespace\u001b[0m\u001b[1;33m=\u001b[0m\u001b[0mrun_namespace\u001b[0m\u001b[1;33m)\u001b[0m\u001b[1;33m\u001b[0m\u001b[1;33m\u001b[0m\u001b[0m\n\u001b[0m\u001b[0;32m    702\u001b[0m \u001b[1;33m\u001b[0m\u001b[0m\n",
      "\u001b[1;32m~\\Anaconda3\\lib\\site-packages\\brian2\\groups\\group.py\u001b[0m in \u001b[0;36m_resolve_external\u001b[1;34m(self, identifier, run_namespace, user_identifier, internal_variable)\u001b[0m\n\u001b[0;32m    824\u001b[0m                                  identifier)\n\u001b[1;32m--> 825\u001b[1;33m                 \u001b[1;32mraise\u001b[0m \u001b[0mKeyError\u001b[0m\u001b[1;33m(\u001b[0m\u001b[0merror_msg\u001b[0m\u001b[1;33m)\u001b[0m\u001b[1;33m\u001b[0m\u001b[1;33m\u001b[0m\u001b[0m\n\u001b[0m\u001b[0;32m    826\u001b[0m \u001b[1;33m\u001b[0m\u001b[0m\n",
      "\u001b[1;31mKeyError\u001b[0m: 'The identifier \"I_u2inh_inh\" could not be resolved.'",
      "\nDuring handling of the above exception, another exception occurred:\n",
      "\u001b[1;31mBrianObjectException\u001b[0m                      Traceback (most recent call last)",
      "\u001b[1;32m<ipython-input-13-df4b2a53aab2>\u001b[0m in \u001b[0;36m<module>\u001b[1;34m\u001b[0m\n\u001b[0;32m      1\u001b[0m \u001b[0mspikemon\u001b[0m \u001b[1;33m=\u001b[0m \u001b[0mSpikeMonitor\u001b[0m\u001b[1;33m(\u001b[0m\u001b[0mu_layer\u001b[0m\u001b[1;33m,\u001b[0m \u001b[0mvariables\u001b[0m\u001b[1;33m=\u001b[0m\u001b[1;34m'v'\u001b[0m\u001b[1;33m)\u001b[0m\u001b[1;33m\u001b[0m\u001b[1;33m\u001b[0m\u001b[0m\n\u001b[0;32m      2\u001b[0m \u001b[1;33m\u001b[0m\u001b[0m\n\u001b[1;32m----> 3\u001b[1;33m \u001b[0mrun\u001b[0m\u001b[1;33m(\u001b[0m\u001b[1;36m10\u001b[0m\u001b[1;33m*\u001b[0m\u001b[0mms\u001b[0m\u001b[1;33m)\u001b[0m\u001b[1;33m\u001b[0m\u001b[1;33m\u001b[0m\u001b[0m\n\u001b[0m\u001b[0;32m      4\u001b[0m \u001b[0mplot\u001b[0m\u001b[1;33m(\u001b[0m\u001b[0mspikemon\u001b[0m\u001b[1;33m.\u001b[0m\u001b[0mt\u001b[0m\u001b[1;33m/\u001b[0m\u001b[0mms\u001b[0m\u001b[1;33m,\u001b[0m \u001b[0mspikemon\u001b[0m\u001b[1;33m.\u001b[0m\u001b[0mi\u001b[0m\u001b[1;33m,\u001b[0m \u001b[1;34m'.k'\u001b[0m\u001b[1;33m)\u001b[0m\u001b[1;33m\u001b[0m\u001b[1;33m\u001b[0m\u001b[0m\n\u001b[0;32m      5\u001b[0m \u001b[0mxlabel\u001b[0m\u001b[1;33m(\u001b[0m\u001b[1;34m'Time (ms)'\u001b[0m\u001b[1;33m)\u001b[0m\u001b[1;33m\u001b[0m\u001b[1;33m\u001b[0m\u001b[0m\n",
      "\u001b[1;32m~\\Anaconda3\\lib\\site-packages\\brian2\\units\\fundamentalunits.py\u001b[0m in \u001b[0;36mnew_f\u001b[1;34m(*args, **kwds)\u001b[0m\n\u001b[0;32m   2390\u001b[0m                                                      get_dimensions(newkeyset[k]))\n\u001b[0;32m   2391\u001b[0m \u001b[1;33m\u001b[0m\u001b[0m\n\u001b[1;32m-> 2392\u001b[1;33m             \u001b[0mresult\u001b[0m \u001b[1;33m=\u001b[0m \u001b[0mf\u001b[0m\u001b[1;33m(\u001b[0m\u001b[1;33m*\u001b[0m\u001b[0margs\u001b[0m\u001b[1;33m,\u001b[0m \u001b[1;33m**\u001b[0m\u001b[0mkwds\u001b[0m\u001b[1;33m)\u001b[0m\u001b[1;33m\u001b[0m\u001b[1;33m\u001b[0m\u001b[0m\n\u001b[0m\u001b[0;32m   2393\u001b[0m             \u001b[1;32mif\u001b[0m \u001b[1;34m'result'\u001b[0m \u001b[1;32min\u001b[0m \u001b[0mau\u001b[0m\u001b[1;33m:\u001b[0m\u001b[1;33m\u001b[0m\u001b[1;33m\u001b[0m\u001b[0m\n\u001b[0;32m   2394\u001b[0m                 \u001b[1;32mif\u001b[0m \u001b[0mau\u001b[0m\u001b[1;33m[\u001b[0m\u001b[1;34m'result'\u001b[0m\u001b[1;33m]\u001b[0m \u001b[1;33m==\u001b[0m \u001b[0mbool\u001b[0m\u001b[1;33m:\u001b[0m\u001b[1;33m\u001b[0m\u001b[1;33m\u001b[0m\u001b[0m\n",
      "\u001b[1;32m~\\Anaconda3\\lib\\site-packages\\brian2\\core\\magic.py\u001b[0m in \u001b[0;36mrun\u001b[1;34m(duration, report, report_period, namespace, profile, level)\u001b[0m\n\u001b[0;32m    372\u001b[0m     '''\n\u001b[0;32m    373\u001b[0m     return magic_network.run(duration, report=report, report_period=report_period,\n\u001b[1;32m--> 374\u001b[1;33m                              namespace=namespace, profile=profile, level=2+level)\n\u001b[0m\u001b[0;32m    375\u001b[0m \u001b[0mrun\u001b[0m\u001b[1;33m.\u001b[0m\u001b[0m__module__\u001b[0m \u001b[1;33m=\u001b[0m \u001b[0m__name__\u001b[0m\u001b[1;33m\u001b[0m\u001b[1;33m\u001b[0m\u001b[0m\n\u001b[0;32m    376\u001b[0m \u001b[1;33m\u001b[0m\u001b[0m\n",
      "\u001b[1;32m~\\Anaconda3\\lib\\site-packages\\brian2\\core\\magic.py\u001b[0m in \u001b[0;36mrun\u001b[1;34m(self, duration, report, report_period, namespace, profile, level)\u001b[0m\n\u001b[0;32m    230\u001b[0m         \u001b[0mself\u001b[0m\u001b[1;33m.\u001b[0m\u001b[0m_update_magic_objects\u001b[0m\u001b[1;33m(\u001b[0m\u001b[0mlevel\u001b[0m\u001b[1;33m=\u001b[0m\u001b[0mlevel\u001b[0m\u001b[1;33m+\u001b[0m\u001b[1;36m1\u001b[0m\u001b[1;33m)\u001b[0m\u001b[1;33m\u001b[0m\u001b[1;33m\u001b[0m\u001b[0m\n\u001b[0;32m    231\u001b[0m         Network.run(self, duration, report=report, report_period=report_period,\n\u001b[1;32m--> 232\u001b[1;33m                     namespace=namespace, profile=profile, level=level+1)\n\u001b[0m\u001b[0;32m    233\u001b[0m \u001b[1;33m\u001b[0m\u001b[0m\n\u001b[0;32m    234\u001b[0m     \u001b[1;32mdef\u001b[0m \u001b[0mstore\u001b[0m\u001b[1;33m(\u001b[0m\u001b[0mself\u001b[0m\u001b[1;33m,\u001b[0m \u001b[0mname\u001b[0m\u001b[1;33m=\u001b[0m\u001b[1;34m'default'\u001b[0m\u001b[1;33m,\u001b[0m \u001b[0mfilename\u001b[0m\u001b[1;33m=\u001b[0m\u001b[1;32mNone\u001b[0m\u001b[1;33m,\u001b[0m \u001b[0mlevel\u001b[0m\u001b[1;33m=\u001b[0m\u001b[1;36m0\u001b[0m\u001b[1;33m)\u001b[0m\u001b[1;33m:\u001b[0m\u001b[1;33m\u001b[0m\u001b[1;33m\u001b[0m\u001b[0m\n",
      "\u001b[1;32m~\\Anaconda3\\lib\\site-packages\\brian2\\core\\base.py\u001b[0m in \u001b[0;36mdevice_override_decorated_function\u001b[1;34m(*args, **kwds)\u001b[0m\n\u001b[0;32m    278\u001b[0m                 \u001b[1;32mreturn\u001b[0m \u001b[0mgetattr\u001b[0m\u001b[1;33m(\u001b[0m\u001b[0mcurdev\u001b[0m\u001b[1;33m,\u001b[0m \u001b[0mname\u001b[0m\u001b[1;33m)\u001b[0m\u001b[1;33m(\u001b[0m\u001b[1;33m*\u001b[0m\u001b[0margs\u001b[0m\u001b[1;33m,\u001b[0m \u001b[1;33m**\u001b[0m\u001b[0mkwds\u001b[0m\u001b[1;33m)\u001b[0m\u001b[1;33m\u001b[0m\u001b[1;33m\u001b[0m\u001b[0m\n\u001b[0;32m    279\u001b[0m             \u001b[1;32melse\u001b[0m\u001b[1;33m:\u001b[0m\u001b[1;33m\u001b[0m\u001b[1;33m\u001b[0m\u001b[0m\n\u001b[1;32m--> 280\u001b[1;33m                 \u001b[1;32mreturn\u001b[0m \u001b[0mfunc\u001b[0m\u001b[1;33m(\u001b[0m\u001b[1;33m*\u001b[0m\u001b[0margs\u001b[0m\u001b[1;33m,\u001b[0m \u001b[1;33m**\u001b[0m\u001b[0mkwds\u001b[0m\u001b[1;33m)\u001b[0m\u001b[1;33m\u001b[0m\u001b[1;33m\u001b[0m\u001b[0m\n\u001b[0m\u001b[0;32m    281\u001b[0m \u001b[1;33m\u001b[0m\u001b[0m\n\u001b[0;32m    282\u001b[0m         \u001b[0mdevice_override_decorated_function\u001b[0m\u001b[1;33m.\u001b[0m\u001b[0m__doc__\u001b[0m \u001b[1;33m=\u001b[0m \u001b[0mfunc\u001b[0m\u001b[1;33m.\u001b[0m\u001b[0m__doc__\u001b[0m\u001b[1;33m\u001b[0m\u001b[1;33m\u001b[0m\u001b[0m\n",
      "\u001b[1;32m~\\Anaconda3\\lib\\site-packages\\brian2\\units\\fundamentalunits.py\u001b[0m in \u001b[0;36mnew_f\u001b[1;34m(*args, **kwds)\u001b[0m\n\u001b[0;32m   2390\u001b[0m                                                      get_dimensions(newkeyset[k]))\n\u001b[0;32m   2391\u001b[0m \u001b[1;33m\u001b[0m\u001b[0m\n\u001b[1;32m-> 2392\u001b[1;33m             \u001b[0mresult\u001b[0m \u001b[1;33m=\u001b[0m \u001b[0mf\u001b[0m\u001b[1;33m(\u001b[0m\u001b[1;33m*\u001b[0m\u001b[0margs\u001b[0m\u001b[1;33m,\u001b[0m \u001b[1;33m**\u001b[0m\u001b[0mkwds\u001b[0m\u001b[1;33m)\u001b[0m\u001b[1;33m\u001b[0m\u001b[1;33m\u001b[0m\u001b[0m\n\u001b[0m\u001b[0;32m   2393\u001b[0m             \u001b[1;32mif\u001b[0m \u001b[1;34m'result'\u001b[0m \u001b[1;32min\u001b[0m \u001b[0mau\u001b[0m\u001b[1;33m:\u001b[0m\u001b[1;33m\u001b[0m\u001b[1;33m\u001b[0m\u001b[0m\n\u001b[0;32m   2394\u001b[0m                 \u001b[1;32mif\u001b[0m \u001b[0mau\u001b[0m\u001b[1;33m[\u001b[0m\u001b[1;34m'result'\u001b[0m\u001b[1;33m]\u001b[0m \u001b[1;33m==\u001b[0m \u001b[0mbool\u001b[0m\u001b[1;33m:\u001b[0m\u001b[1;33m\u001b[0m\u001b[1;33m\u001b[0m\u001b[0m\n",
      "\u001b[1;32m~\\Anaconda3\\lib\\site-packages\\brian2\\core\\network.py\u001b[0m in \u001b[0;36mrun\u001b[1;34m(self, duration, report, report_period, namespace, profile, level)\u001b[0m\n\u001b[0;32m   1010\u001b[0m             \u001b[0mnamespace\u001b[0m \u001b[1;33m=\u001b[0m \u001b[0mget_local_namespace\u001b[0m\u001b[1;33m(\u001b[0m\u001b[0mlevel\u001b[0m\u001b[1;33m=\u001b[0m\u001b[0mlevel\u001b[0m\u001b[1;33m+\u001b[0m\u001b[1;36m3\u001b[0m\u001b[1;33m)\u001b[0m\u001b[1;33m\u001b[0m\u001b[1;33m\u001b[0m\u001b[0m\n\u001b[0;32m   1011\u001b[0m \u001b[1;33m\u001b[0m\u001b[0m\n\u001b[1;32m-> 1012\u001b[1;33m         \u001b[0mself\u001b[0m\u001b[1;33m.\u001b[0m\u001b[0mbefore_run\u001b[0m\u001b[1;33m(\u001b[0m\u001b[0mnamespace\u001b[0m\u001b[1;33m)\u001b[0m\u001b[1;33m\u001b[0m\u001b[1;33m\u001b[0m\u001b[0m\n\u001b[0m\u001b[0;32m   1013\u001b[0m \u001b[1;33m\u001b[0m\u001b[0m\n\u001b[0;32m   1014\u001b[0m         \u001b[1;32mif\u001b[0m \u001b[0mlen\u001b[0m\u001b[1;33m(\u001b[0m\u001b[0mall_objects\u001b[0m\u001b[1;33m)\u001b[0m \u001b[1;33m==\u001b[0m \u001b[1;36m0\u001b[0m\u001b[1;33m:\u001b[0m\u001b[1;33m\u001b[0m\u001b[1;33m\u001b[0m\u001b[0m\n",
      "\u001b[1;32m~\\Anaconda3\\lib\\site-packages\\brian2\\core\\base.py\u001b[0m in \u001b[0;36mdevice_override_decorated_function\u001b[1;34m(*args, **kwds)\u001b[0m\n\u001b[0;32m    278\u001b[0m                 \u001b[1;32mreturn\u001b[0m \u001b[0mgetattr\u001b[0m\u001b[1;33m(\u001b[0m\u001b[0mcurdev\u001b[0m\u001b[1;33m,\u001b[0m \u001b[0mname\u001b[0m\u001b[1;33m)\u001b[0m\u001b[1;33m(\u001b[0m\u001b[1;33m*\u001b[0m\u001b[0margs\u001b[0m\u001b[1;33m,\u001b[0m \u001b[1;33m**\u001b[0m\u001b[0mkwds\u001b[0m\u001b[1;33m)\u001b[0m\u001b[1;33m\u001b[0m\u001b[1;33m\u001b[0m\u001b[0m\n\u001b[0;32m    279\u001b[0m             \u001b[1;32melse\u001b[0m\u001b[1;33m:\u001b[0m\u001b[1;33m\u001b[0m\u001b[1;33m\u001b[0m\u001b[0m\n\u001b[1;32m--> 280\u001b[1;33m                 \u001b[1;32mreturn\u001b[0m \u001b[0mfunc\u001b[0m\u001b[1;33m(\u001b[0m\u001b[1;33m*\u001b[0m\u001b[0margs\u001b[0m\u001b[1;33m,\u001b[0m \u001b[1;33m**\u001b[0m\u001b[0mkwds\u001b[0m\u001b[1;33m)\u001b[0m\u001b[1;33m\u001b[0m\u001b[1;33m\u001b[0m\u001b[0m\n\u001b[0m\u001b[0;32m    281\u001b[0m \u001b[1;33m\u001b[0m\u001b[0m\n\u001b[0;32m    282\u001b[0m         \u001b[0mdevice_override_decorated_function\u001b[0m\u001b[1;33m.\u001b[0m\u001b[0m__doc__\u001b[0m \u001b[1;33m=\u001b[0m \u001b[0mfunc\u001b[0m\u001b[1;33m.\u001b[0m\u001b[0m__doc__\u001b[0m\u001b[1;33m\u001b[0m\u001b[1;33m\u001b[0m\u001b[0m\n",
      "\u001b[1;32m~\\Anaconda3\\lib\\site-packages\\brian2\\core\\network.py\u001b[0m in \u001b[0;36mbefore_run\u001b[1;34m(self, run_namespace)\u001b[0m\n\u001b[0;32m    901\u001b[0m                     \u001b[0mobj\u001b[0m\u001b[1;33m.\u001b[0m\u001b[0mbefore_run\u001b[0m\u001b[1;33m(\u001b[0m\u001b[0mrun_namespace\u001b[0m\u001b[1;33m)\u001b[0m\u001b[1;33m\u001b[0m\u001b[1;33m\u001b[0m\u001b[0m\n\u001b[0;32m    902\u001b[0m                 \u001b[1;32mexcept\u001b[0m \u001b[0mException\u001b[0m \u001b[1;32mas\u001b[0m \u001b[0mex\u001b[0m\u001b[1;33m:\u001b[0m\u001b[1;33m\u001b[0m\u001b[1;33m\u001b[0m\u001b[0m\n\u001b[1;32m--> 903\u001b[1;33m                     \u001b[1;32mraise\u001b[0m \u001b[0mbrian_object_exception\u001b[0m\u001b[1;33m(\u001b[0m\u001b[1;34m\"An error occurred when preparing an object.\"\u001b[0m\u001b[1;33m,\u001b[0m \u001b[0mobj\u001b[0m\u001b[1;33m,\u001b[0m \u001b[0mex\u001b[0m\u001b[1;33m)\u001b[0m\u001b[1;33m\u001b[0m\u001b[1;33m\u001b[0m\u001b[0m\n\u001b[0m\u001b[0;32m    904\u001b[0m \u001b[1;33m\u001b[0m\u001b[0m\n\u001b[0;32m    905\u001b[0m         \u001b[1;31m# Check that no object has been run as part of another network before\u001b[0m\u001b[1;33m\u001b[0m\u001b[1;33m\u001b[0m\u001b[1;33m\u001b[0m\u001b[0m\n",
      "\u001b[1;31mBrianObjectException\u001b[0m: Original error and traceback:\nTraceback (most recent call last):\n  File \"C:\\Users\\Lenovo\\Anaconda3\\lib\\site-packages\\brian2\\core\\network.py\", line 901, in before_run\n    obj.before_run(run_namespace)\n  File \"C:\\Users\\Lenovo\\Anaconda3\\lib\\site-packages\\brian2\\groups\\neurongroup.py\", line 888, in before_run\n    self.equations.check_units(self, run_namespace=run_namespace)\n  File \"C:\\Users\\Lenovo\\Anaconda3\\lib\\site-packages\\brian2\\equations\\equations.py\", line 950, in check_units\n    user_identifiers=external)  # all variables are user defined\n  File \"C:\\Users\\Lenovo\\Anaconda3\\lib\\site-packages\\brian2\\groups\\group.py\", line 744, in resolve_all\n    run_namespace=run_namespace)\n  File \"C:\\Users\\Lenovo\\Anaconda3\\lib\\site-packages\\brian2\\groups\\group.py\", line 701, in _resolve\n    return self._resolve_external(identifier, run_namespace=run_namespace)\n  File \"C:\\Users\\Lenovo\\Anaconda3\\lib\\site-packages\\brian2\\groups\\group.py\", line 825, in _resolve_external\n    raise KeyError(error_msg)\nKeyError: 'The identifier \"I_u2inh_inh\" could not be resolved.'\n\nError encountered with object named \"neurongroup_1\".\nObject was created here (most recent call only, full details in debug log):\n  File \"<ipython-input-10-4bc82af3f71e>\", line 6, in <module>\n    inhibition_neuron = NeuronGroup(1,inhibition_neuron_equ, threshold='v>0.5', reset='v=0', method='exact')\n\nAn error occurred when preparing an object. KeyError: 'The identifier \"I_u2inh_inh\" could not be resolved.'\n(See above for original error message and traceback.)"
>>>>>>> Stashed changes
     ]
    }
   ],
   "source": [
    "spikemon = SpikeMonitor(u_layer, variables='v')\n",
    "\n",
    "run(10*ms)\n",
    "plot(spikemon.t/ms, spikemon.i, '.k')\n",
    "xlabel('Time (ms)')\n",
    "ylabel('Neuron index');"
   ]
  },
  {
   "cell_type": "code",
   "execution_count": null,
   "metadata": {},
   "outputs": [],
   "source": []
  },
  {
   "cell_type": "code",
   "execution_count": null,
   "metadata": {},
   "outputs": [],
   "source": []
  },
  {
   "cell_type": "code",
   "execution_count": null,
   "metadata": {},
   "outputs": [],
   "source": []
  },
  {
   "cell_type": "code",
   "execution_count": null,
   "metadata": {},
   "outputs": [],
   "source": []
  },
  {
   "cell_type": "code",
   "execution_count": null,
   "metadata": {},
   "outputs": [],
   "source": [
    "# partie copiée de la partie 6 aide\n",
    "net_model = Network(collect())\n",
    "net_model.store()\n",
    "\n",
    "for epoch in range (nb_epoch):\n",
    "    np.random.shuffle(dataset)\n",
    "    for vector in enumerate(dataset):\n",
    "        for oscil in range(nb_oscil):\n",
    "            net_model.restore()\n",
    "            potential_input = rf.float_to_membrane_potential(vector)\n",
    "            u_layer.I_ext = potential_input.flatten()\n",
    "            net_model.run(oscillation_period)\n",
    "            net_model.store()"
   ]
<<<<<<< Updated upstream
=======
  },
  {
   "cell_type": "markdown",
   "metadata": {},
   "source": [
    "U va convertir une valeure en motif spacio temporel \n",
    "l'apprentissage se situe entre U et V \n",
    "si y a pas inh : U se désincronise \n",
    "--> but: ne pas perdre le motif, on veut que le cycle se reproduise à l'identique \n",
    "    Inh va détecter la fin de la séquence offsetdetector (il y a aussi onset detector), en offset il va inhibier toutes les dissonances pour qu'il y ai toujours le motif \n",
    "    \n",
    "Pour le renforcement : on prend le signe de delta w "
   ]
  },
  {
   "cell_type": "markdown",
   "metadata": {},
   "source": [
    "I : tableau 2 dimentions normalisé (entre 0 et 1)\n",
    "    On veut encoder ces valeures là de façon spacio-temporelle avec le temps d'émiion des spikes\n",
    "    On va donc la représenter avec une banque de 10 neurones \n",
    "    \n"
   ]
  },
  {
   "cell_type": "code",
   "execution_count": null,
   "metadata": {},
   "outputs": [],
   "source": []
>>>>>>> Stashed changes
  }
 ],
 "metadata": {
  "kernelspec": {
   "display_name": "Python 3",
   "language": "python",
   "name": "python3"
  },
  "language_info": {
   "codemirror_mode": {
    "name": "ipython",
    "version": 3
   },
   "file_extension": ".py",
   "mimetype": "text/x-python",
   "name": "python",
   "nbconvert_exporter": "python",
   "pygments_lexer": "ipython3",
   "version": "3.7.4"
  }
 },
 "nbformat": 4,
 "nbformat_minor": 2
}
