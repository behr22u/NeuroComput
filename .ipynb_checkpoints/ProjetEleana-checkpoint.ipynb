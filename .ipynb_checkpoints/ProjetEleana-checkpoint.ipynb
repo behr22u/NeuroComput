{
 "cells": [
  {
   "cell_type": "code",
   "execution_count": 139,
   "metadata": {},
   "outputs": [],
   "source": [
    "from brian2 import *\n",
    "import math\n",
    "# brian2tools import *\n",
    "import numpy as np\n",
    "%matplotlib inline"
   ]
  },
  {
   "cell_type": "code",
   "execution_count": 140,
   "metadata": {},
   "outputs": [],
   "source": [
    "# SIMULATION PARAMETERS\n",
    "\n",
    "prefs.codegen.target = 'numpy'\n",
    "\n",
    "# the numerical resolution method that shall be used by Brian\n",
    "diff_method = \"euler\"\n",
    "time_step = 0.01 * ms\n",
    "defaultclock.dt = time_step "
   ]
  },
  {
   "cell_type": "code",
   "execution_count": 141,
   "metadata": {},
   "outputs": [],
   "source": [
    "################################## NEURONS AND SYNAPSES PARAMETERS ################################## \n",
    "######### (A) Neuronal parameters, used in (1) and (4) ########\n",
    "\n",
    "# time constants\n",
    "tau_m = 1.0 * ms\n",
    "tau_m_inh = 0.5 * ms\n",
    "\n",
    "# membrane potential after reset\n",
    "v_rest = 0.0\n",
    "\n",
    "# spiking threshold\n",
    "theta_u = 0.5\n",
    "theta_inh = 0.01\n",
    "\n",
    "########## (B) Synaptic parameters, used in (2) and (3) for different synapse types ######### \n",
    "\n",
    "# temporal layer to som layer (u to v)\n",
    "tau_r_afferent = 0.2 * ms\n",
    "tau_f_afferent = 1.0 * ms\n",
    "\n",
    "# temporal layer (u to inh exc, u to inh inh, inh to u)\n",
    "tau_r_exc = 0.4 * ms\n",
    "tau_f_exc = 2.0 * ms\n",
    "tau_r_inh = 0.2 * ms\n",
    "tau_f_inh = 1.0 * ms\n",
    "tau_r_inh2u = 1.0 * ms\n",
    "tau_f_inh2u = 5.0 * ms\n",
    "\n",
    "########## (C) Maximum magnitudes of synaptic connection strength ##########\n",
    "w_syn_u2inh_exc_max = 1.0\n",
    "w_syn_u2inh_inh_max = 1.0\n",
    "w_syn_inh2u_max = 100.0\n",
    "w_syn_v2v_max = 2.2\n",
    "w_syn_u2v_max = 1.0\n",
    "a = 3.0\n",
    "b = 3.0\n",
    "r = 3.0"
   ]
  },
  {
   "cell_type": "code",
   "execution_count": 142,
   "metadata": {},
   "outputs": [],
   "source": [
    "def toroidalDistance2(x1,x2):\n",
    "    dx = np.abs(x1 - x2)\n",
    "    tor_dist = np.where(dx < 0, dx, 1.0 - dx)\n",
    "    return tor_dist"
   ]
  },
  {
   "cell_type": "code",
   "execution_count": 144,
   "metadata": {},
   "outputs": [],
   "source": [
    "class ReceptiveField:\n",
    "    # Parameter used in standard deviation definition\n",
    "    gamma = 1.5\n",
    "    \n",
    "    # bank_size : pour un vecteur de 3 valeurs, on aura 10 neurones pour chaque valeur\n",
    "    def __init__(self,bank_size = 10, I_min = 0.05, I_max = 0.95):\n",
    "        # number of units used to encode a real value  \n",
    "\n",
    "        \n",
    "        # field_mu corresponds to the mean of the gaussian and shall be a numpy array \n",
    "        #self.field_mu = array([0.05 , 0.15, 0.25, 0.35, 0.45, 0.55, 0.65, 0.75, 0.85, 0.95])\n",
    "        \n",
    "        self.field_mu = []\n",
    "        for i in range(bank_size): \n",
    "            mu_i = I_min + ((2*i - 2 /2)*(I_max - I_min)/(2*(bank_size - 1)))\n",
    "            self.field_mu.append(mu_i)\n",
    "        \n",
    "        # field_sigma corresponds to the standard deviation of the gaussian and shall be a float\n",
    "        self.field_sigma = (I_max - I_min)/ self.gamma\n",
    "\n",
    "    def float_to_potential(self, input_vector):\n",
    "        try:\n",
    "            input_vector = input_vector.reshape((input_vector.shape[0], 1))\n",
    "            \n",
    "        except Exception as exc:\n",
    "            print(\"Exception: {0}\\nObject shape: {1}\".format(repr(exc), input_vector.shape))\n",
    "            exit(1)\n",
    "            \n",
    "        #result = e**(-((toroidalDistance2(input_vector, self.field_mu)**2) /(2*self.field_sigma))) \n",
    "        result = e**(-((input_vector - self.field_mu)**2) /(2*self.field_sigma)**2)\n",
    "        return result"
   ]
  },
  {
   "cell_type": "code",
   "execution_count": null,
   "metadata": {},
   "outputs": [],
   "source": [
    "\n"
   ]
  },
  {
   "cell_type": "code",
   "execution_count": 145,
   "metadata": {},
   "outputs": [],
   "source": [
    "#1 testing float_to_potential function\n",
    "receptiveF = ReceptiveField()\n",
    "input_dimension = 2\n",
    "x = np.random.uniform(0,1,input_dimension)\n",
    "input_potential = receptiveF.float_to_potential(x)"
   ]
  },
  {
   "cell_type": "code",
   "execution_count": 146,
   "metadata": {},
   "outputs": [],
   "source": [
    "start_scope()\n",
    "u_layer_neuron_equ = '''\n",
    "I_ext : 1\n",
    "dv/dt = (I_ext - v)/tau_m  : 1\n",
    "'''\n",
    "\n",
    "u_layer_neuron_equ2 = '''\n",
    "I_ext : 1\n",
    "# inhibitory synapses to u layer : alpha functions\n",
    "ds_inh2u/dt = (-s_inh2u)/tau_r_inh2u:1\n",
    "dI_inh2u/dt = (s_inh2u-I_inh2u)/tau_f_inh2u :1\n",
    "\n",
    "# membrane potential of u layer \n",
    "dv/dt = (-v +I_ext - I_inh2u) / tau_m:1\n",
    "'''\n"
   ]
  },
  {
   "cell_type": "code",
   "execution_count": 147,
   "metadata": {},
   "outputs": [],
   "source": [
    "u_layer = NeuronGroup(2 * 10, u_layer_neuron_equ, threshold='v > 0.5', reset= \"v=0\", method = diff_method)\n",
    "# U doit avoir un vecteru d'une seule dimension en entrée\n",
    "u_layer.I_ext = input_potential.flatten()\n",
    "\n",
    "u_layer2 = NeuronGroup(2 * 10, u_layer_neuron_equ2, threshold='v > 0.5', reset= \"v=0\", method = diff_method)\n",
    "# U doit avoir un vecteru d'une seule dimension en entrée\n",
    "u_layer2.I_ext = input_potential.flatten()\n",
    "\n"
   ]
  },
  {
   "cell_type": "code",
   "execution_count": 148,
   "metadata": {},
   "outputs": [],
   "source": [
    "spikemon_u_layer = SpikeMonitor(u_layer, variables='v')\n",
    "spikemon_u_layer2 = SpikeMonitor(u_layer2, variables='v')\n",
    "\n",
    "state_u_layer2 = StateMonitor(u_layer2, variables='v', record = 0)\n"
   ]
  },
  {
   "cell_type": "code",
   "execution_count": 149,
   "metadata": {},
   "outputs": [],
   "source": [
    "#5\n",
    "inhibition_neuron_equ = '''\n",
    "\n",
    "# inhibitory synapses from u to Inh neuron : alpha functions\n",
    "ds_u2inh_e/dt = (-s_u2inh_e)/tau_r_exc :1\n",
    "dI_u2inh_e/dt = (s_u2inh_e-I_u2inh_e)/tau_f_exc :1\n",
    "ds_u2inh_i/dt = (-s_u2inh_i)/tau_r_inh :1\n",
    "dI_u2inh_i/dt = (s_u2inh_i-I_u2inh_i)/tau_f_inh :1\n",
    "\n",
    "\n",
    "# membrane potential of u layer \n",
    "dv/dt = (-v + I_u2inh_e - I_u2inh_i) / tau_m_inh :1\n",
    "'''\n",
    "\n"
   ]
  },
  {
   "cell_type": "code",
   "execution_count": 150,
   "metadata": {},
   "outputs": [],
   "source": [
    "#6\n",
    "\n",
    "inhibition_neuron = NeuronGroup(1, inhibition_neuron_equ, threshold='v> 0.01', reset= \"v=0\", method = diff_method)\n",
    "spikemon_inh_layer = SpikeMonitor(inhibition_neuron, variables='v')\n",
    "statemon_inh_layer = StateMonitor(inhibition_neuron, 'v', record = 0)\n",
    "\n",
    "#7 synapse excitation\n",
    "\n",
    "model_synapse_u2inh_excitation = '''\n",
    "w_syn : 1\n",
    "'''\n",
    "\n",
    "on_pre_synapse_u2inh_excitation = '''\n",
    "s_u2inh_e += w_syn\n",
    "'''\n",
    "#8\n",
    "u2inh_excitation = Synapses (u_layer2, inhibition_neuron,model_synapse_u2inh_excitation, on_pre_synapse_u2inh_excitation )\n",
    "u2inh_excitation.connect()\n",
    "\n",
    "weights_u2inh = [0] * 20\n",
    "for i in range(19)  :\n",
    "    weights_u2inh[i] = w_syn_u2inh_exc_max / 5\n",
    "    \n",
    "u2inh_excitation.w_syn = weights_u2inh"
   ]
  },
  {
   "cell_type": "code",
   "execution_count": null,
   "metadata": {},
   "outputs": [],
   "source": []
  },
  {
   "cell_type": "code",
   "execution_count": 151,
   "metadata": {},
   "outputs": [
    {
     "data": {
      "text/plain": [
       "True"
      ]
     },
     "execution_count": 151,
     "metadata": {},
     "output_type": "execute_result"
    }
   ],
   "source": [
    "#10 synapse inhibition\n",
    "\n",
    "model_synapse_u2inh_inhibition = '''\n",
    "w_syn : 1\n",
    "'''\n",
    "\n",
    "on_pre_synapse_u2inh_inhibition = '''\n",
    "s_u2inh_i += w_syn\n",
    "'''\n",
    "\n",
    "u2inh_inhibition = Synapses (u_layer2, inhibition_neuron,model_synapse_u2inh_inhibition, on_pre_synapse_u2inh_inhibition )\n",
    "u2inh_inhibition.connect()\n",
    "\n",
    "weights_u2inh_inh = [0] * 20\n",
    "for q in range(19)  :\n",
    "    weights_u2inh_inh[q] = w_syn_u2inh_inh_max / 5\n",
    "    \n",
    "u2inh_inhibition.w_syn = weights_u2inh_inh\n",
    "\n",
    "u2inh_inhibition.active"
   ]
  },
  {
   "cell_type": "code",
   "execution_count": 152,
   "metadata": {},
   "outputs": [
    {
     "data": {
      "text/plain": [
       "True"
      ]
     },
     "execution_count": 152,
     "metadata": {},
     "output_type": "execute_result"
    }
   ],
   "source": [
    "#10 synapse inhibition inh to u\n",
    "\n",
    "model_synapse_inh2u_inhibition = '''\n",
    "w_syn : 1\n",
    "'''\n",
    "\n",
    "on_pre_synapse_inh2u_inhibition = '''\n",
    "s_inh2u += w_syn\n",
    "'''\n",
    "\n",
    "inh2u_inhibition = Synapses (inhibition_neuron, u_layer2, model_synapse_inh2u_inhibition, on_pre_synapse_inh2u_inhibition )\n",
    "inh2u_inhibition.connect()\n",
    "\n",
    "weights_inh2u = [0] * 20\n",
    "for k in range(19)  :\n",
    "    weights_inh2u[k] = w_syn_inh2u_max / 5\n",
    "    \n",
    "inh2u_inhibition.w_syn = weights_inh2u\n",
    "\n",
    "inh2u_inhibition.active"
   ]
  },
  {
   "cell_type": "code",
   "execution_count": 153,
   "metadata": {},
   "outputs": [],
   "source": [
    "#partie 2\n",
    "v_layer_neuron_equ = '''\n",
    "u2v : 1\n",
    "\n",
    "# inhibitory synapses to u layer : alpha functions\n",
    "ds_v2v/dt = (-s_v2v)/tau_r_afferent:1\n",
    "dI_v2v/dt = (s_v2v-u2v)/tau_f_afferent :1\n",
    "\n",
    "dv/dt = (u2v - v + I_v2v ) /tau_m :1\n",
    "\n",
    "'''"
   ]
  },
  {
   "cell_type": "code",
   "execution_count": 154,
   "metadata": {},
   "outputs": [],
   "source": [
    "v_layer = NeuronGroup(2 * 10, v_layer_neuron_equ, threshold='v > 1', reset= \"v=0\", method = diff_method)"
   ]
  },
  {
   "cell_type": "code",
   "execution_count": 155,
   "metadata": {},
   "outputs": [
    {
     "name": "stderr",
     "output_type": "stream",
     "text": [
      "WARNING    \"i\" is an internal variable of group \"synapses_3\", but also exists in the run namespace with the value 18. The internal variable will be used. [brian2.groups.group.Group.resolve.resolution_conflict]\n"
     ]
    },
    {
     "data": {
      "text/plain": [
       "True"
      ]
     },
     "execution_count": 155,
     "metadata": {},
     "output_type": "execute_result"
    }
   ],
   "source": [
    "# synapses inhibition v to v\n",
    "\n",
    "model_synapse_v2v = '''\n",
    "w_syn : 1\n",
    "'''\n",
    "\n",
    "on_pre_synapse_v2v = '''\n",
    "s_v2v += w_syn\n",
    "'''\n",
    "\n",
    "v2v = Synapses (v_layer, v_layer, model_synapse_v2v, on_pre_synapse_v2v )\n",
    "v2v.connect(condition='i!=j')\n",
    "\n",
    "weights_v2v = [0] * 380\n",
    "for z in range(19)  :\n",
    "    weights_v2v[z] = w_syn_v2v_max / 5\n",
    "    \n",
    "v2v.w_syn = weights_v2v\n",
    "\n",
    "v2v.active"
   ]
  },
  {
   "cell_type": "code",
   "execution_count": 156,
   "metadata": {},
   "outputs": [],
   "source": [
    "def syn_weight():\n",
    "    result = []\n",
    "    for i in range(20):\n",
    "        for j in range(20): \n",
    "            if (i != j):\n",
    "                result.append ((1 + a )*e**(-(toroidalDistance2(i,j)**2)/(2* r**2)) - a * e**(-(toroidalDistance2(i,j)**2)/(2* (b*r)**2)) ) \n",
    "    return result"
   ]
  },
  {
   "cell_type": "code",
   "execution_count": 157,
   "metadata": {},
   "outputs": [],
   "source": [
    "v2v.w_syn=syn_weight()"
   ]
  },
  {
   "cell_type": "code",
   "execution_count": 158,
   "metadata": {},
   "outputs": [
    {
     "data": {
      "text/plain": [
       "True"
      ]
     },
     "execution_count": 158,
     "metadata": {},
     "output_type": "execute_result"
    }
   ],
   "source": [
    "#synapses u to v\n",
    "model_synapse_u2v = '''\n",
    "w_syn : 1\n",
    "'''\n",
    "\n",
    "on_pre_synapse_u2v = '''\n",
    "u2v += w_syn\n",
    "'''\n",
    "\n",
    "u2v = Synapses (u_layer2, v_layer,model_synapse_u2v, on_pre_synapse_u2v )\n",
    "u2v.connect()\n",
    "\n",
    "\n",
    "    \n",
    "u2v.w_syn =  np.random.uniform(0,w_syn_u2v_max, 400)\n",
    "u2v.active"
   ]
  },
  {
   "cell_type": "code",
   "execution_count": 159,
   "metadata": {},
   "outputs": [],
   "source": [
    "spikemon_v_layer = SpikeMonitor(v_layer, variables='v')\n",
    "\n",
    "\n",
    "M = StateMonitor(v_layer, 'v', record=True)"
   ]
  },
  {
   "cell_type": "code",
   "execution_count": 160,
   "metadata": {},
   "outputs": [
    {
     "name": "stdout",
     "output_type": "stream",
     "text": [
      "True True True True True\n"
     ]
    }
   ],
   "source": [
    "run(10*ms)\n",
    "print(u2inh_excitation.active, u2inh_inhibition.active ,inh2u_inhibition.active, u2v.active, v2v.active )"
   ]
  },
  {
   "cell_type": "code",
   "execution_count": 161,
   "metadata": {},
   "outputs": [
    {
     "data": {
      "text/plain": [
       "True"
      ]
     },
     "execution_count": 161,
     "metadata": {},
     "output_type": "execute_result"
    },
    {
     "data": {
      "image/png": "[encoded data removed]",
      "text/plain": [
       "<Figure size 432x288 with 1 Axes>"
      ]
     },
     "metadata": {
      "needs_background": "light"
     },
     "output_type": "display_data"
    }
   ],
   "source": [
    "#sans inh\n",
    "plot(spikemon_u_layer.t/ms, spikemon_u_layer.i, '.k')\n",
    "xlabel('Time (ms)')\n",
    "ylabel('Neuron index')\n",
    "spikemon_u_layer.active"
   ]
  },
  {
   "cell_type": "code",
   "execution_count": 162,
   "metadata": {},
   "outputs": [
    {
     "data": {
      "text/plain": [
       "True"
      ]
     },
     "execution_count": 162,
     "metadata": {},
     "output_type": "execute_result"
    },
    {
     "data": {
      "image/png": "[encoded data removed]",
      "text/plain": [
       "<Figure size 432x288 with 1 Axes>"
      ]
     },
     "metadata": {
      "needs_background": "light"
     },
     "output_type": "display_data"
    }
   ],
   "source": [
    "plot(spikemon_u_layer2.t/ms, spikemon_u_layer2.i, '.k')\n",
    "\n",
    "xlabel('Time (ms)')\n",
    "ylabel('Neuron index')\n",
    "\n",
    "\n",
    "\n",
    "spikemon_u_layer2.active"
   ]
  },
  {
   "cell_type": "code",
   "execution_count": 163,
   "metadata": {},
   "outputs": [
    {
     "data": {
      "text/plain": [
       "Text(0.5, 1.0, 'Potentiel membranaire')"
      ]
     },
     "execution_count": 163,
     "metadata": {},
     "output_type": "execute_result"
    },
    {
     "data": {
      "image/png": "[encoded data removed]",
      "text/plain": [
       "<Figure size 432x288 with 1 Axes>"
      ]
     },
     "metadata": {
      "needs_background": "light"
     },
     "output_type": "display_data"
    }
   ],
   "source": [
    "\n",
    "plot(state_u_layer2.t/ms,state_u_layer2.v[0] )\n",
    "title('Potentiel membranaire')\n",
    "\n"
   ]
  },
  {
   "cell_type": "code",
   "execution_count": 164,
   "metadata": {},
   "outputs": [
    {
     "data": {
      "text/plain": [
       "Text(0, 0.5, 'Mv')"
      ]
     },
     "execution_count": 164,
     "metadata": {},
     "output_type": "execute_result"
    },
    {
     "data": {
      "image/png": "[encoded data removed]",
      "text/plain": [
       "<Figure size 864x288 with 1 Axes>"
      ]
     },
     "metadata": {
      "needs_background": "light"
     },
     "output_type": "display_data"
    }
   ],
   "source": [
    "\n",
    "figure(figsize=(12,4))\n",
    "plot(statemon_inh_layer.t/ms,statemon_inh_layer.v[0] )\n",
    "title('Potentiel membranaire')\n",
    "xlabel('Time (ms)')\n",
    "ylabel('Mv')\n"
   ]
  },
  {
   "cell_type": "code",
   "execution_count": 165,
   "metadata": {},
   "outputs": [
    {
     "data": {
      "text/plain": [
       "Text(0, 0.5, 'Mv')"
      ]
     },
     "execution_count": 165,
     "metadata": {},
     "output_type": "execute_result"
    },
    {
     "data": {
      "image/png": "[encoded data removed]",
      "text/plain": [
       "<Figure size 864x288 with 1 Axes>"
      ]
     },
     "metadata": {
      "needs_background": "light"
     },
     "output_type": "display_data"
    }
   ],
   "source": [
    "figure(figsize=(12,4))\n",
    "plot(M.t/ms,M.v[0] )\n",
    "title('Potentiel membranaire V')\n",
    "xlabel('Time (ms)')\n",
    "ylabel('Mv')\n"
   ]
  },
  {
   "cell_type": "code",
   "execution_count": 166,
   "metadata": {},
   "outputs": [
    {
     "ename": "ValueError",
     "evalue": "x and y must have same first dimension, but have shapes (45,) and (1000,)",
     "output_type": "error",
     "traceback": [
      "\u001b[0;31m---------------------------------------------------------------------------\u001b[0m",
      "\u001b[0;31mValueError\u001b[0m                                Traceback (most recent call last)",
      "\u001b[0;32m<ipython-input-166-efff9a427a83>\u001b[0m in \u001b[0;36m<module>\u001b[0;34m\u001b[0m\n\u001b[0;32m----> 1\u001b[0;31m \u001b[0mplot\u001b[0m\u001b[0;34m(\u001b[0m\u001b[0mspikemon_v_layer\u001b[0m\u001b[0;34m.\u001b[0m\u001b[0mt\u001b[0m\u001b[0;34m/\u001b[0m\u001b[0mms\u001b[0m\u001b[0;34m,\u001b[0m \u001b[0mM\u001b[0m\u001b[0;34m.\u001b[0m\u001b[0mv\u001b[0m\u001b[0;34m[\u001b[0m\u001b[0;36m0\u001b[0m\u001b[0;34m]\u001b[0m\u001b[0;34m,\u001b[0m \u001b[0mlabel\u001b[0m\u001b[0;34m=\u001b[0m\u001b[0;34m'Neurone 0'\u001b[0m\u001b[0;34m)\u001b[0m\u001b[0;34m\u001b[0m\u001b[0;34m\u001b[0m\u001b[0m\n\u001b[0m",
      "\u001b[0;32m~/anaconda3/lib/python3.7/site-packages/matplotlib/pyplot.py\u001b[0m in \u001b[0;36mplot\u001b[0;34m(scalex, scaley, data, *args, **kwargs)\u001b[0m\n\u001b[1;32m   2793\u001b[0m     return gca().plot(\n\u001b[1;32m   2794\u001b[0m         *args, scalex=scalex, scaley=scaley, **({\"data\": data} if data\n\u001b[0;32m-> 2795\u001b[0;31m         is not None else {}), **kwargs)\n\u001b[0m\u001b[1;32m   2796\u001b[0m \u001b[0;34m\u001b[0m\u001b[0m\n\u001b[1;32m   2797\u001b[0m \u001b[0;34m\u001b[0m\u001b[0m\n",
      "\u001b[0;32m~/anaconda3/lib/python3.7/site-packages/matplotlib/axes/_axes.py\u001b[0m in \u001b[0;36mplot\u001b[0;34m(self, scalex, scaley, data, *args, **kwargs)\u001b[0m\n\u001b[1;32m   1664\u001b[0m         \"\"\"\n\u001b[1;32m   1665\u001b[0m         \u001b[0mkwargs\u001b[0m \u001b[0;34m=\u001b[0m \u001b[0mcbook\u001b[0m\u001b[0;34m.\u001b[0m\u001b[0mnormalize_kwargs\u001b[0m\u001b[0;34m(\u001b[0m\u001b[0mkwargs\u001b[0m\u001b[0;34m,\u001b[0m \u001b[0mmlines\u001b[0m\u001b[0;34m.\u001b[0m\u001b[0mLine2D\u001b[0m\u001b[0;34m.\u001b[0m\u001b[0m_alias_map\u001b[0m\u001b[0;34m)\u001b[0m\u001b[0;34m\u001b[0m\u001b[0;34m\u001b[0m\u001b[0m\n\u001b[0;32m-> 1666\u001b[0;31m         \u001b[0mlines\u001b[0m \u001b[0;34m=\u001b[0m \u001b[0;34m[\u001b[0m\u001b[0;34m*\u001b[0m\u001b[0mself\u001b[0m\u001b[0;34m.\u001b[0m\u001b[0m_get_lines\u001b[0m\u001b[0;34m(\u001b[0m\u001b[0;34m*\u001b[0m\u001b[0margs\u001b[0m\u001b[0;34m,\u001b[0m \u001b[0mdata\u001b[0m\u001b[0;34m=\u001b[0m\u001b[0mdata\u001b[0m\u001b[0;34m,\u001b[0m \u001b[0;34m**\u001b[0m\u001b[0mkwargs\u001b[0m\u001b[0;34m)\u001b[0m\u001b[0;34m]\u001b[0m\u001b[0;34m\u001b[0m\u001b[0;34m\u001b[0m\u001b[0m\n\u001b[0m\u001b[1;32m   1667\u001b[0m         \u001b[0;32mfor\u001b[0m \u001b[0mline\u001b[0m \u001b[0;32min\u001b[0m \u001b[0mlines\u001b[0m\u001b[0;34m:\u001b[0m\u001b[0;34m\u001b[0m\u001b[0;34m\u001b[0m\u001b[0m\n\u001b[1;32m   1668\u001b[0m             \u001b[0mself\u001b[0m\u001b[0;34m.\u001b[0m\u001b[0madd_line\u001b[0m\u001b[0;34m(\u001b[0m\u001b[0mline\u001b[0m\u001b[0;34m)\u001b[0m\u001b[0;34m\u001b[0m\u001b[0;34m\u001b[0m\u001b[0m\n",
      "\u001b[0;32m~/anaconda3/lib/python3.7/site-packages/matplotlib/axes/_base.py\u001b[0m in \u001b[0;36m__call__\u001b[0;34m(self, *args, **kwargs)\u001b[0m\n\u001b[1;32m    223\u001b[0m                 \u001b[0mthis\u001b[0m \u001b[0;34m+=\u001b[0m \u001b[0margs\u001b[0m\u001b[0;34m[\u001b[0m\u001b[0;36m0\u001b[0m\u001b[0;34m]\u001b[0m\u001b[0;34m,\u001b[0m\u001b[0;34m\u001b[0m\u001b[0;34m\u001b[0m\u001b[0m\n\u001b[1;32m    224\u001b[0m                 \u001b[0margs\u001b[0m \u001b[0;34m=\u001b[0m \u001b[0margs\u001b[0m\u001b[0;34m[\u001b[0m\u001b[0;36m1\u001b[0m\u001b[0;34m:\u001b[0m\u001b[0;34m]\u001b[0m\u001b[0;34m\u001b[0m\u001b[0;34m\u001b[0m\u001b[0m\n\u001b[0;32m--> 225\u001b[0;31m             \u001b[0;32myield\u001b[0m \u001b[0;32mfrom\u001b[0m \u001b[0mself\u001b[0m\u001b[0;34m.\u001b[0m\u001b[0m_plot_args\u001b[0m\u001b[0;34m(\u001b[0m\u001b[0mthis\u001b[0m\u001b[0;34m,\u001b[0m \u001b[0mkwargs\u001b[0m\u001b[0;34m)\u001b[0m\u001b[0;34m\u001b[0m\u001b[0;34m\u001b[0m\u001b[0m\n\u001b[0m\u001b[1;32m    226\u001b[0m \u001b[0;34m\u001b[0m\u001b[0m\n\u001b[1;32m    227\u001b[0m     \u001b[0;32mdef\u001b[0m \u001b[0mget_next_color\u001b[0m\u001b[0;34m(\u001b[0m\u001b[0mself\u001b[0m\u001b[0;34m)\u001b[0m\u001b[0;34m:\u001b[0m\u001b[0;34m\u001b[0m\u001b[0;34m\u001b[0m\u001b[0m\n",
      "\u001b[0;32m~/anaconda3/lib/python3.7/site-packages/matplotlib/axes/_base.py\u001b[0m in \u001b[0;36m_plot_args\u001b[0;34m(self, tup, kwargs)\u001b[0m\n\u001b[1;32m    389\u001b[0m             \u001b[0mx\u001b[0m\u001b[0;34m,\u001b[0m \u001b[0my\u001b[0m \u001b[0;34m=\u001b[0m \u001b[0mindex_of\u001b[0m\u001b[0;34m(\u001b[0m\u001b[0mtup\u001b[0m\u001b[0;34m[\u001b[0m\u001b[0;34m-\u001b[0m\u001b[0;36m1\u001b[0m\u001b[0;34m]\u001b[0m\u001b[0;34m)\u001b[0m\u001b[0;34m\u001b[0m\u001b[0;34m\u001b[0m\u001b[0m\n\u001b[1;32m    390\u001b[0m \u001b[0;34m\u001b[0m\u001b[0m\n\u001b[0;32m--> 391\u001b[0;31m         \u001b[0mx\u001b[0m\u001b[0;34m,\u001b[0m \u001b[0my\u001b[0m \u001b[0;34m=\u001b[0m \u001b[0mself\u001b[0m\u001b[0;34m.\u001b[0m\u001b[0m_xy_from_xy\u001b[0m\u001b[0;34m(\u001b[0m\u001b[0mx\u001b[0m\u001b[0;34m,\u001b[0m \u001b[0my\u001b[0m\u001b[0;34m)\u001b[0m\u001b[0;34m\u001b[0m\u001b[0;34m\u001b[0m\u001b[0m\n\u001b[0m\u001b[1;32m    392\u001b[0m \u001b[0;34m\u001b[0m\u001b[0m\n\u001b[1;32m    393\u001b[0m         \u001b[0;32mif\u001b[0m \u001b[0mself\u001b[0m\u001b[0;34m.\u001b[0m\u001b[0mcommand\u001b[0m \u001b[0;34m==\u001b[0m \u001b[0;34m'plot'\u001b[0m\u001b[0;34m:\u001b[0m\u001b[0;34m\u001b[0m\u001b[0;34m\u001b[0m\u001b[0m\n",
      "\u001b[0;32m~/anaconda3/lib/python3.7/site-packages/matplotlib/axes/_base.py\u001b[0m in \u001b[0;36m_xy_from_xy\u001b[0;34m(self, x, y)\u001b[0m\n\u001b[1;32m    268\u001b[0m         \u001b[0;32mif\u001b[0m \u001b[0mx\u001b[0m\u001b[0;34m.\u001b[0m\u001b[0mshape\u001b[0m\u001b[0;34m[\u001b[0m\u001b[0;36m0\u001b[0m\u001b[0;34m]\u001b[0m \u001b[0;34m!=\u001b[0m \u001b[0my\u001b[0m\u001b[0;34m.\u001b[0m\u001b[0mshape\u001b[0m\u001b[0;34m[\u001b[0m\u001b[0;36m0\u001b[0m\u001b[0;34m]\u001b[0m\u001b[0;34m:\u001b[0m\u001b[0;34m\u001b[0m\u001b[0;34m\u001b[0m\u001b[0m\n\u001b[1;32m    269\u001b[0m             raise ValueError(\"x and y must have same first dimension, but \"\n\u001b[0;32m--> 270\u001b[0;31m                              \"have shapes {} and {}\".format(x.shape, y.shape))\n\u001b[0m\u001b[1;32m    271\u001b[0m         \u001b[0;32mif\u001b[0m \u001b[0mx\u001b[0m\u001b[0;34m.\u001b[0m\u001b[0mndim\u001b[0m \u001b[0;34m>\u001b[0m \u001b[0;36m2\u001b[0m \u001b[0;32mor\u001b[0m \u001b[0my\u001b[0m\u001b[0;34m.\u001b[0m\u001b[0mndim\u001b[0m \u001b[0;34m>\u001b[0m \u001b[0;36m2\u001b[0m\u001b[0;34m:\u001b[0m\u001b[0;34m\u001b[0m\u001b[0;34m\u001b[0m\u001b[0m\n\u001b[1;32m    272\u001b[0m             raise ValueError(\"x and y can be no greater than 2-D, but have \"\n",
      "\u001b[0;31mValueError\u001b[0m: x and y must have same first dimension, but have shapes (45,) and (1000,)"
     ]
    },
    {
     "data": {
      "image/png": "[encoded data removed]",
      "text/plain": [
       "<Figure size 432x288 with 1 Axes>"
      ]
     },
     "metadata": {
      "needs_background": "light"
     },
     "output_type": "display_data"
    }
   ],
   "source": [
    "plot(spikemon_v_layer.t/ms, M.v[0], label='Neurone 0')"
   ]
  },
  {
   "cell_type": "code",
   "execution_count": 127,
   "metadata": {},
   "outputs": [
    {
     "name": "stdout",
     "output_type": "stream",
     "text": [
      "-222.6781925362883 0.0001227580825348031\n"
     ]
    }
   ],
   "source": [
    "print(v_layer.v[0], inhibition_neuron.v[0]) "
   ]
  },
  {
   "cell_type": "code",
   "execution_count": null,
   "metadata": {},
   "outputs": [],
   "source": []
  }
 ],
 "metadata": {
  "kernelspec": {
   "display_name": "Python 3",
   "language": "python",
   "name": "python3"
  },
  "language_info": {
   "codemirror_mode": {
    "name": "ipython",
    "version": 3
   },
   "file_extension": ".py",
   "mimetype": "text/x-python",
   "name": "python",
   "nbconvert_exporter": "python",
   "pygments_lexer": "ipython3",
   "version": "3.7.4"
  }
 },
 "nbformat": 4,
 "nbformat_minor": 2
}
