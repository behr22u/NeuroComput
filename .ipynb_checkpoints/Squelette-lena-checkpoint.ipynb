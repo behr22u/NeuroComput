{
 "cells": [
  {
   "cell_type": "code",
   "execution_count": 183,
   "metadata": {},
   "outputs": [],
   "source": [
    "from brian2 import *\n",
    "from brian2tools import *\n",
    "import numpy as np\n",
    "%matplotlib inline"
   ]
  },
  {
   "cell_type": "code",
   "execution_count": 184,
   "metadata": {},
   "outputs": [],
   "source": [
    "# SIMULATION PARAMETERS\n",
    "\n",
    "prefs.codegen.target = 'numpy'\n",
    "# the numerical resolution method that shall be used by Brian\n",
    "diff_method = \"euler\"\n",
    "time_step = 0.01 * ms\n",
    "defaultclock.dt = time_step "
   ]
  },
  {
   "cell_type": "code",
   "execution_count": 185,
   "metadata": {},
   "outputs": [],
   "source": [
    "################################## NEURONS AND SYNAPSES PARAMETERS ################################## \n",
    "\n",
    "######### (A) Neuronal parameters, used in (1) and (4) ########\n",
    "\n",
    "# time constants\n",
    "tau_m = 1.0 * ms\n",
    "tau_m_inh = 0.5 * ms\n",
    "# membrane potential after reset\n",
    "v_rest = 0.0\n",
    "# spiking threshold\n",
    "theta_u = 0.5\n",
    "theta_inh = 0.01\n",
    "\n",
    "########## (B) Synaptic parameters, used in (2) and (3) for different synapse types ######### \n",
    "\n",
    "# temporal layer to som layer (u to v)\n",
    "tau_r_afferent = 0.2 * ms\n",
    "tau_f_afferent = 1.0 * ms\n",
    "\n",
    "# temporal layer (u to inh exc, u to inh inh, inh to u)\n",
    "tau_r_exc = 0.4 * ms\n",
    "tau_f_exc = 2.0 * ms\n",
    "tau_r_inh = 0.2 * ms\n",
    "tau_f_inh = 1.0 * ms\n",
    "tau_r_inh2u = 1.0 * ms\n",
    "tau_f_inh2u = 5.0 * ms\n",
    "\n",
    "########## (C) Maximum magnitudes of synaptic connection strength ##########\n",
    "w_syn_u2inh_exc_max = 1.0\n",
    "w_syn_u2inh_inh_max = 1.0\n",
    "w_syn_inh2u_max = 100.0"
   ]
  },
  {
   "cell_type": "code",
   "execution_count": 186,
   "metadata": {},
   "outputs": [],
   "source": [
    "class ReceptiveField:\n",
    "    # Parameter used in standard deviation definition\n",
    "    gamma = 1.5\n",
    "\n",
    "    def __init__(self, bank_size = 10, I_min = 0.05, I_max = 0.95):\n",
    "        # number of units used to encode a real value  \n",
    "        self.bank_size = bank_size\n",
    "        # field_mu corresponds to the mean of the gaussian and shall be a numpy array \n",
    "        self.field_mu = ([0,0,0,0,0,0,0,0,0,0])\n",
    "        for i in range (1,10):\n",
    "            self.field_mu[i]=I_min+((((2*i)-2)/2)*((I_max-I_min)/(bank_size-1)))\n",
    "        # field_sigma corresponds to the standard deviation of the gaussian and shall be a float\n",
    "        self.field_sigma = (1/1.5)*(I_max-I_min)\n",
    "\n",
    "    def float_to_potential(self, input_vector):\n",
    "        try:\n",
    "            input_vector = input_vector.reshape((input_vector.shape[0], 1))\n",
    "            \n",
    "        except Exception as exc:\n",
    "            print(\"Exception: {0}\\nObject shape: {1}\".format(repr(exc), input_vector.shape))\n",
    "            exit(1)\n",
    "            \n",
    "        result = exp(-((input_vector-self.field_mu)**2)/(2*(self.field_sigma**2)))\n",
    "        return result   \n"
   ]
  },
  {
   "cell_type": "code",
   "execution_count": 1,
   "metadata": {},
   "outputs": [
    {
     "ename": "NameError",
     "evalue": "name 'ReceptiveField' is not defined",
     "output_type": "error",
     "traceback": [
      "\u001b[1;31m---------------------------------------------------------------------------\u001b[0m",
      "\u001b[1;31mNameError\u001b[0m                                 Traceback (most recent call last)",
      "\u001b[1;32m<ipython-input-1-cb3b37dcb8e1>\u001b[0m in \u001b[0;36m<module>\u001b[1;34m\u001b[0m\n\u001b[1;32m----> 1\u001b[1;33m \u001b[0mrf\u001b[0m \u001b[1;33m=\u001b[0m \u001b[0mReceptiveField\u001b[0m\u001b[1;33m(\u001b[0m\u001b[1;33m)\u001b[0m\u001b[1;33m\u001b[0m\u001b[1;33m\u001b[0m\u001b[0m\n\u001b[0m\u001b[0;32m      2\u001b[0m \u001b[0minp_size\u001b[0m \u001b[1;33m=\u001b[0m \u001b[1;36m2\u001b[0m\u001b[1;33m\u001b[0m\u001b[1;33m\u001b[0m\u001b[0m\n\u001b[0;32m      3\u001b[0m \u001b[0minp_vector\u001b[0m \u001b[1;33m=\u001b[0m \u001b[0mnp\u001b[0m\u001b[1;33m.\u001b[0m\u001b[0marray\u001b[0m\u001b[1;33m(\u001b[0m\u001b[1;33m[\u001b[0m\u001b[1;36m0.3\u001b[0m\u001b[1;33m,\u001b[0m\u001b[1;36m0.4\u001b[0m\u001b[1;33m]\u001b[0m\u001b[1;33m)\u001b[0m\u001b[1;33m\u001b[0m\u001b[1;33m\u001b[0m\u001b[0m\n",
      "\u001b[1;31mNameError\u001b[0m: name 'ReceptiveField' is not defined"
     ]
    }
   ],
   "source": [
    "rf = ReceptiveField()\n",
    "inp_size = 2\n",
    "inp_vector = np.array([0.3,0.4])"
   ]
  },
  {
   "cell_type": "code",
   "execution_count": 2,
   "metadata": {},
   "outputs": [
    {
     "ename": "NameError",
     "evalue": "name 'rf' is not defined",
     "output_type": "error",
     "traceback": [
      "\u001b[1;31m---------------------------------------------------------------------------\u001b[0m",
      "\u001b[1;31mNameError\u001b[0m                                 Traceback (most recent call last)",
      "\u001b[1;32m<ipython-input-2-d34b9515b607>\u001b[0m in \u001b[0;36m<module>\u001b[1;34m\u001b[0m\n\u001b[1;32m----> 1\u001b[1;33m \u001b[0minp_potentials\u001b[0m \u001b[1;33m=\u001b[0m \u001b[0mrf\u001b[0m\u001b[1;33m.\u001b[0m\u001b[0mfloat_to_potential\u001b[0m\u001b[1;33m(\u001b[0m\u001b[0minp_vector\u001b[0m\u001b[1;33m)\u001b[0m\u001b[1;33m\u001b[0m\u001b[1;33m\u001b[0m\u001b[0m\n\u001b[0m\u001b[0;32m      2\u001b[0m \u001b[0minp_potentials\u001b[0m\u001b[1;33m\u001b[0m\u001b[1;33m\u001b[0m\u001b[0m\n",
      "\u001b[1;31mNameError\u001b[0m: name 'rf' is not defined"
     ]
    }
   ],
   "source": [
    "inp_potentials = rf.float_to_potential(inp_vector) \n",
    "inp_potentials"
   ]
  },
  {
   "cell_type": "raw",
   "metadata": {},
   "source": [
    "Ecrivez les équations rendant compte du comportement d’un neurone au sein de la population u dans un objet u_layer_neuron_equ de type multi-line string. Ajoutez un terme Iext sans dimension pour l’entrée extérieure. Pour le moment on ne tiendra pas compte de l’influence du neurone inhibiteur dans les équations."
   ]
  },
  {
   "cell_type": "code",
   "execution_count": 189,
   "metadata": {},
   "outputs": [],
   "source": [
    "u_layer_neuron_equ = '''\n",
    "I_ext : 1\n",
    "# inhibitory synapses to u layer : alpha functions\n",
    "ds_inh2u/dt = (-s_inh2u)/tau_r_inh2u:1\n",
    "dI_inh2u/dt = (s_inh2u-I_inh2u)/tau_f_inh2u :1\n",
    "\n",
    "# membrane potential of u layer \n",
    "#dv/dt = (-v +I_ext - I_inh2u) / tau_m:1\n",
    "#I_ext:1\n",
    "dv/dt=(I_ext-v)/tau_m:1\n",
    "'''\n"
   ]
  },
  {
   "cell_type": "raw",
   "metadata": {},
   "source": [
    "Mu = valeur préférenciel + moyenne de la gaussienne\n",
    "sigma = étalement de la gaussienne : + il est élevé + la gaussienne sera étalée + plus il va réagir pour l'ensemble des valeurs possible / + il est petit + il sera précis et + la gaussienne sera resserée. \n",
    "x représente l'entrée courante \n",
    "\n",
    "Les neurones dans u ne sont pas connecté entre eux, pas de connection latérale\n",
    "\n",
    "\n",
    "wij = spécifie les poids synaptiques dans la population v\n"
   ]
  },
  {
   "cell_type": "code",
   "execution_count": 190,
   "metadata": {},
   "outputs": [
    {
     "data": {
      "text/plain": [
       "<neurongroup_1.I_ext: array([0.8824969 , 0.91685536, 0.96923323, 0.9965338 , 0.9965338 ,\n",
       "       0.96923323, 0.91685536, 0.84354765, 0.7548396 , 0.65695557,\n",
       "       0.60653066, 0.65695557, 0.7548396 , 0.84354765, 0.91685536,\n",
       "       0.96923323, 0.9965338 , 0.9965338 , 0.96923323, 0.91685536])>"
      ]
     },
     "execution_count": 190,
     "metadata": {},
     "output_type": "execute_result"
    }
   ],
   "source": [
    "start_scope()\n",
    "N = 10 * inp_size\n",
    "u_layer = NeuronGroup(N,u_layer_neuron_equ, threshold='v>0.5', reset='v=0', method='exact')\n",
    "u_layer.I_ext=inp_potentials.flatten()\n",
    "u_layer.I_ext"
   ]
  },
  {
   "cell_type": "code",
   "execution_count": 191,
   "metadata": {},
   "outputs": [
    {
     "data": {
      "image/png": "[encoded data removed]",
      "text/plain": [
       "<Figure size 432x288 with 1 Axes>"
      ]
     },
     "metadata": {
      "needs_background": "light"
     },
     "output_type": "display_data"
    }
   ],
   "source": [
    "spikemon = SpikeMonitor(u_layer)\n",
    "\n",
    "run(10*ms)\n",
    "plot(spikemon.t/ms, spikemon.i, '.k')\n",
    "xlabel('Time (ms)')\n",
    "ylabel('Neuron index');"
   ]
  },
  {
   "cell_type": "raw",
   "metadata": {},
   "source": [
    "5. Ecrivez les équations rendant compte du comportement du neurone Inh dans un objet inhibition_neuron_equ de type multi-line string. Ajoutez dans les équations l’influence des synapses excitatrices et inhibitrices provenant du groupe de neurone u."
   ]
  },
  {
   "cell_type": "code",
   "execution_count": 192,
   "metadata": {},
   "outputs": [],
   "source": [
    "inhibition_neuron_equ= '''\n",
    "U_ext : 1\n",
    "\n",
    "# inhibitory synapses to u layer : alpha functions\n",
    "ds_u2inh/dt = (-s_u2inh) / tau_r_inh : 1\n",
    "dI_u2inh/dt = (s_u2inh - I_u2inh) / tau_f_inh : 1\n",
    "\n",
    "# membrane potential of u layer \n",
    "dv/dt = (-v +U_ext - I_u2inh) / tau_m : 1\n",
    "'''"
   ]
  },
  {
   "cell_type": "raw",
   "metadata": {},
   "source": [
    "6. Instanciez le neurone inhibiteur inhibition_neuron avec le modèle inhibition_neuron_equ."
   ]
  },
  {
   "cell_type": "code",
   "execution_count": 193,
   "metadata": {},
   "outputs": [],
   "source": [
    "start_scope()\n",
    "inhibition_neuron = NeuronGroup(N,inhibition_neuron_equ, threshold='v>0.5', reset='v=0', method='exact')\n",
    "inhibition_neuron.U_ext=inp_potentials.flatten()"
   ]
  },
  {
   "cell_type": "code",
   "execution_count": 194,
   "metadata": {},
   "outputs": [
    {
     "name": "stderr",
     "output_type": "stream",
     "text": [
      "WARNING    <string>:13: RuntimeWarning: invalid value encountered in double_scalars\n",
      " [py.warnings]\n",
      "WARNING:py.warnings:<string>:13: RuntimeWarning: invalid value encountered in double_scalars\n",
      "\n",
      "WARNING    <string>:15: RuntimeWarning: invalid value encountered in double_scalars\n",
      " [py.warnings]\n",
      "WARNING:py.warnings:<string>:15: RuntimeWarning: invalid value encountered in double_scalars\n",
      "\n",
      "WARNING    <string>:19: RuntimeWarning: invalid value encountered in greater\n",
      " [py.warnings]\n",
      "WARNING:py.warnings:<string>:19: RuntimeWarning: invalid value encountered in greater\n",
      "\n"
     ]
    },
    {
     "data": {
      "image/png": "[encoded data removed]",
      "text/plain": [
       "<Figure size 432x288 with 1 Axes>"
      ]
     },
     "metadata": {
      "needs_background": "light"
     },
     "output_type": "display_data"
    }
   ],
   "source": [
    "spikemon = SpikeMonitor(inhibition_neuron)\n",
    "\n",
    "run(10*ms)\n",
    "plot(spikemon.t/ms, spikemon.i, '.k')\n",
    "xlabel('Time (ms)')\n",
    "ylabel('Neuron index');"
   ]
  },
  {
   "cell_type": "code",
   "execution_count": 96,
   "metadata": {},
   "outputs": [],
   "source": [
    "model_synapse_inh2u_inhibition = '''\n",
    "w_syn : 1\n",
    "'''\n",
    "\n",
    "on_pre_synapse_inh2u_inhibition = '''\n",
    "s_inh2u += w_syn\n",
    "'''"
   ]
  },
  {
   "cell_type": "code",
   "execution_count": null,
   "metadata": {},
   "outputs": [],
   "source": [
    "on_pre_synapse_u2inh_inhibition = '''\n",
    "s_u2inh += w_syn\n",
    "'''\n",
    "on_pre_synapse_u2inh_exitation = '''\n",
    "s_u2inh += w_syn\n",
    "'''"
   ]
  },
  {
   "cell_type": "code",
   "execution_count": null,
   "metadata": {},
   "outputs": [],
   "source": []
  },
  {
   "cell_type": "code",
   "execution_count": null,
   "metadata": {},
   "outputs": [],
   "source": []
  },
  {
   "cell_type": "code",
   "execution_count": null,
   "metadata": {},
   "outputs": [],
   "source": []
  },
  {
   "cell_type": "code",
   "execution_count": null,
   "metadata": {},
   "outputs": [],
   "source": []
  },
  {
   "cell_type": "code",
   "execution_count": null,
   "metadata": {},
   "outputs": [],
   "source": []
  }
 ],
 "metadata": {
  "kernelspec": {
   "display_name": "Python 3",
   "language": "python",
   "name": "python3"
  },
  "language_info": {
   "codemirror_mode": {
    "name": "ipython",
    "version": 3
   },
   "file_extension": ".py",
   "mimetype": "text/x-python",
   "name": "python",
   "nbconvert_exporter": "python",
   "pygments_lexer": "ipython3",
   "version": "3.7.4"
  }
 },
 "nbformat": 4,
 "nbformat_minor": 2
}
