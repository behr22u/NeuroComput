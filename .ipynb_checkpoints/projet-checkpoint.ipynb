{
 "cells": [
  {
   "cell_type": "code",
   "execution_count": 1,
   "metadata": {},
   "outputs": [],
   "source": [
    "from brian2 import *\n",
    "#from brian2tools import *\n",
    "import numpy as np\n",
    "%matplotlib inline\n"
   ]
  },
  {
   "cell_type": "code",
   "execution_count": 2,
   "metadata": {},
   "outputs": [],
   "source": [
    "# SIMULATION PARAMETERS\n",
    "\n",
    "prefs.codegen.target = 'numpy'\n",
    "# the numerical resolution method that shall be used by Brian\n",
    "diff_method = \"euler\"\n",
    "time_step = 0.01 * ms\n",
    "defaultclock.dt = time_step "
   ]
  },
  {
   "cell_type": "code",
   "execution_count": 3,
   "metadata": {},
   "outputs": [],
   "source": [
    "################################## NEURONS AND SYNAPSES PARAMETERS ################################## \n",
    "\n",
    "######### (A) Neuronal parameters, used in (1) and (4) ########\n",
    "\n",
    "# time constants\n",
    "tau_m = 1.0 * ms # ok\n",
    "tau_m_inh = 0.5 * ms # ok\n",
    "# membrane potential after reset\n",
    "v_rest = 0.0 # ok\n",
    "# spiking threshold\n",
    "theta_u = 0.5 # ok\n",
    "theta_inh = 0.01 # ok\n",
    "\n",
    "########## (B) Synaptic parameters, used in (2) and (3) for different synapse types ######### \n",
    "\n",
    "# temporal layer to som layer (u to v)\n",
    "tau_r_afferent = 0.2 * ms\n",
    "tau_f_afferent = 1.0 * ms\n",
    "\n",
    "# temporal layer (u to inh exc, u to inh inh, inh to u)\n",
    "tau_r_exc = 0.4 * ms\n",
    "tau_f_exc = 2.0 * ms\n",
    "tau_r_inh = 0.2 * ms\n",
    "tau_f_inh = 1.0 * ms\n",
    "tau_r_inh2u = 1.0 * ms\n",
    "tau_f_inh2u = 5.0 * ms\n",
    "\n",
    "########## (C) Maximum magnitudes of synaptic connection strength ##########\n",
    "w_syn_u2inh_exc_max = 1.0\n",
    "w_syn_u2inh_inh_max = 1.0\n",
    "w_syn_inh2u_max = 100.0"
   ]
  },
  {
   "cell_type": "code",
   "execution_count": 4,
   "metadata": {},
   "outputs": [],
   "source": [
    "class ReceptiveField:\n",
    "    # Parameter used in standard deviation definition\n",
    "    gamma = 1.5\n",
    "\n",
    "    def __init__(self, bank_size = 10, I_min =0.05 , I_max =0.95 ):\n",
    "        # number of units used to encode a real value  \n",
    "        self.bank_size = bank_size\n",
    "        # field_mu corresponds to the mean of the gaussian and shall be a numpy array \n",
    "        self.field_mu = np.zeros(bank_size)\n",
    "        for i in range (bank_size): \n",
    "            mui = I_min + ((2*(i+1)-2)/2*(I_max - I_min)/(bank_size))\n",
    "            self.field_mu[i] = mui\n",
    "        # field_sigma corresponds to the standard deviation of the gaussian and shall be a float\n",
    "        self.field_sigma = 1/self.gamma * (I_max - I_min)\n",
    "        \n",
    "    def float_to_potential(self, input_vector):\n",
    "        try:\n",
    "            input_vector = input_vector.reshape((input_vector.shape[0], 1))\n",
    "            \n",
    "        except Exception as exc:\n",
    "            print(\"Exception: {0}\\nObject shape: {1}\".format(repr(exc), input_vector.shape))\n",
    "            exit(1)\n",
    "            \n",
    "        #résultat de f(x)\n",
    "        result = e**(-((input_vector - self.field_mu)**2) /2*self.field_sigma)\n",
    "        return result"
   ]
  },
  {
   "cell_type": "code",
   "execution_count": 22,
   "metadata": {},
   "outputs": [
    {
     "data": {
      "text/plain": [
       "array([1])"
      ]
     },
     "execution_count": 22,
     "metadata": {},
     "output_type": "execute_result"
    }
   ],
   "source": [
    "rf = ReceptiveField()\n",
    "inp_vector = np.random.uniform(0,1,10)\n",
    "#inp_vector = np.array([1])\n",
    "inp_vector"
   ]
  },
  {
   "cell_type": "code",
   "execution_count": 23,
   "metadata": {},
   "outputs": [
    {
     "data": {
      "text/plain": [
       "0.5999999999999999"
      ]
     },
     "execution_count": 23,
     "metadata": {},
     "output_type": "execute_result"
    }
   ],
   "source": [
    "rf.field_sigma  # 0.59999999"
   ]
  },
  {
   "cell_type": "code",
   "execution_count": 24,
   "metadata": {},
   "outputs": [
    {
     "data": {
      "text/plain": [
       "array([[0.76280717, 0.80101148, 0.83705123, 0.87047173, 0.90083785,\n",
       "        0.92774349, 0.95082048, 0.96974706, 0.98425526, 0.99413725]])"
      ]
     },
     "execution_count": 24,
     "metadata": {},
     "output_type": "execute_result"
    }
   ],
   "source": [
    "inp_poentials = rf.float_to_potential(inp_vector) # il me semble que ça devait un tableau genre gaussienne avec 1 au milieu \n",
    "inp_poentials"
   ]
  },
  {
   "cell_type": "markdown",
   "metadata": {},
   "source": [
    "## notes séance 06/02\n",
    "c'est le temps d'émission qui encode l'information \n",
    "c'est une propagation \n",
    "\n",
    "Tous les neurones sont les mêmes dans u et v c'est les mêmes modèles mais avec des paramètre différents \n",
    "fèche exitateur\n",
    "flèche plate inhibiteur \n",
    "\n",
    "c'est dans le modèle des synapse qu'on mettra les fonctions alpha \n",
    "u = à la somme des poids des synapses \n",
    "w le poids synaptique\n",
    "\n",
    "fonctions alpha les règles des synapses \n",
    "\n",
    "pas obligé de faire l'apprentissage dans un premier temps \n",
    "\n",
    "eq 5 : adapter les poids synaptiques\n",
    "    --> en fonction de ce qui est reçu on applique une règle ou l'autre \n",
    "    \n",
    "    \n",
    "summed variable sert pour l'eq 4 \n",
    "\n",
    "eq 6 : implémenter la différence de gaussienne \n",
    "\n",
    "eq 7 réduire le rayon au cours du temps\n",
    "    T n'est pas donné (essayer 10 on peut jouer avec)\n",
    "    n non plus n=1 on peut essayer de le faire varier "
   ]
  },
  {
   "cell_type": "code",
   "execution_count": null,
   "metadata": {},
   "outputs": [],
   "source": []
  }
 ],
 "metadata": {
  "kernelspec": {
   "display_name": "Python 3",
   "language": "python",
   "name": "python3"
  },
  "language_info": {
   "codemirror_mode": {
    "name": "ipython",
    "version": 3
   },
   "file_extension": ".py",
   "mimetype": "text/x-python",
   "name": "python",
   "nbconvert_exporter": "python",
   "pygments_lexer": "ipython3",
   "version": "3.7.4"
  }
 },
 "nbformat": 4,
 "nbformat_minor": 2
}
